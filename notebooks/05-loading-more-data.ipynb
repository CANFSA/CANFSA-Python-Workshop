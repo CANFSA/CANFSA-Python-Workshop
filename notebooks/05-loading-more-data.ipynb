{
 "cells": [
  {
   "cell_type": "markdown",
   "id": "22fa13bf",
   "metadata": {},
   "source": [
    "# 04-loading-more-data.ipynb\n",
    "This notebook continues exploring loading data using the library Pandas"
   ]
  },
  {
   "cell_type": "code",
   "execution_count": 1,
   "id": "fb2c2d3e",
   "metadata": {},
   "outputs": [],
   "source": [
    "# Standard library imports\n",
    "from pathlib import Path\n",
    "# Third-party imports\n",
    "import matplotlib.pyplot as plt\n",
    "import numpy as np\n",
    "import pandas as pd"
   ]
  },
  {
   "cell_type": "markdown",
   "id": "c867079d",
   "metadata": {},
   "source": [
    "# Load Scheil solidification simulation data from CSV file"
   ]
  },
  {
   "cell_type": "code",
   "execution_count": 2,
   "id": "fbaaa54e",
   "metadata": {
    "scrolled": true
   },
   "outputs": [
    {
     "data": {
      "text/plain": [
       "True"
      ]
     },
     "execution_count": 2,
     "metadata": {},
     "output_type": "execute_result"
    }
   ],
   "source": [
    "scheil_path = Path('../data/10-ag-scheil-table.csv')\n",
    "scheil_path.exists()"
   ]
  },
  {
   "cell_type": "code",
   "execution_count": 3,
   "id": "913f312e",
   "metadata": {},
   "outputs": [
    {
     "data": {
      "text/plain": [
       "pandas.core.frame.DataFrame"
      ]
     },
     "execution_count": 3,
     "metadata": {},
     "output_type": "execute_result"
    }
   ],
   "source": [
    "scheil_df = pd.read_csv(scheil_path)\n",
    "type(scheil_df)"
   ]
  },
  {
   "cell_type": "markdown",
   "id": "86c9b427",
   "metadata": {},
   "source": [
    "# Side note: dictionaries"
   ]
  },
  {
   "cell_type": "code",
   "execution_count": 4,
   "id": "5bbb2927",
   "metadata": {},
   "outputs": [
    {
     "data": {
      "text/plain": [
       "{'a': 'salamander', 'b': 'taco', 'c': 'pencil sharpener'}"
      ]
     },
     "execution_count": 4,
     "metadata": {},
     "output_type": "execute_result"
    }
   ],
   "source": [
    "test_dict = {'a': 'salamander', 'b':'taco', 'c':'pencil sharpener'}\n",
    "test_dict"
   ]
  },
  {
   "cell_type": "code",
   "execution_count": 5,
   "id": "6236b8bf",
   "metadata": {},
   "outputs": [
    {
     "data": {
      "text/plain": [
       "'salamander'"
      ]
     },
     "execution_count": 5,
     "metadata": {},
     "output_type": "execute_result"
    }
   ],
   "source": [
    "test_dict['a']"
   ]
  },
  {
   "cell_type": "markdown",
   "id": "2d7b195f",
   "metadata": {},
   "source": [
    "# Back to pandas"
   ]
  },
  {
   "cell_type": "code",
   "execution_count": 6,
   "id": "87916574",
   "metadata": {},
   "outputs": [
    {
     "data": {
      "text/html": [
       "<div>\n",
       "<style scoped>\n",
       "    .dataframe tbody tr th:only-of-type {\n",
       "        vertical-align: middle;\n",
       "    }\n",
       "\n",
       "    .dataframe tbody tr th {\n",
       "        vertical-align: top;\n",
       "    }\n",
       "\n",
       "    .dataframe thead th {\n",
       "        text-align: right;\n",
       "    }\n",
       "</style>\n",
       "<table border=\"1\" class=\"dataframe\">\n",
       "  <thead>\n",
       "    <tr style=\"text-align: right;\">\n",
       "      <th></th>\n",
       "      <th>Temperature [°C]</th>\n",
       "      <th>Mole fraction of liquid</th>\n",
       "      <th>Mole percent of Ag in FCC_A1</th>\n",
       "      <th>Mole percent of Ag in HCP_A3</th>\n",
       "      <th>Molar volume of LIQUID</th>\n",
       "      <th>Mole percent of Ag in LIQUID</th>\n",
       "      <th>Temperature [K]</th>\n",
       "      <th>Temp (cels)</th>\n",
       "      <th>Solid comp. (at% Ag)</th>\n",
       "      <th>Mole frac. Liquid</th>\n",
       "      <th>Liquid comp. (at% Ag)</th>\n",
       "      <th>k</th>\n",
       "      <th>V_m liq.</th>\n",
       "      <th>V frac liq</th>\n",
       "      <th>V_m FCC</th>\n",
       "      <th>V frac sol</th>\n",
       "      <th>VmL-VmS</th>\n",
       "      <th>delta V norm by VL</th>\n",
       "    </tr>\n",
       "  </thead>\n",
       "  <tbody>\n",
       "    <tr>\n",
       "      <th>636</th>\n",
       "      <td>565.999</td>\n",
       "      <td>0.126581</td>\n",
       "      <td>25.987650</td>\n",
       "      <td>NaN</td>\n",
       "      <td>0.000011</td>\n",
       "      <td>32.831447</td>\n",
       "      <td>839.149</td>\n",
       "      <td>565.999</td>\n",
       "      <td>26.903642</td>\n",
       "      <td>0.123446</td>\n",
       "      <td>32.987602</td>\n",
       "      <td>0.815568</td>\n",
       "      <td>0.000011</td>\n",
       "      <td>0.125762079</td>\n",
       "      <td>0.00001</td>\n",
       "      <td>0.876423</td>\n",
       "      <td>5.990450e-07</td>\n",
       "      <td>0.054312</td>\n",
       "    </tr>\n",
       "    <tr>\n",
       "      <th>637</th>\n",
       "      <td>565.899</td>\n",
       "      <td>0.125097</td>\n",
       "      <td>26.436750</td>\n",
       "      <td>NaN</td>\n",
       "      <td>0.000011</td>\n",
       "      <td>32.907338</td>\n",
       "      <td>839.049</td>\n",
       "      <td>565.899</td>\n",
       "      <td>32.987602</td>\n",
       "      <td>0.123446</td>\n",
       "      <td>32.987602</td>\n",
       "      <td>1.000000</td>\n",
       "      <td>0.000011</td>\n",
       "      <td>0.125762079</td>\n",
       "      <td>0.00001</td>\n",
       "      <td>0.876488</td>\n",
       "      <td>5.998110e-07</td>\n",
       "      <td>0.054382</td>\n",
       "    </tr>\n",
       "    <tr>\n",
       "      <th>638</th>\n",
       "      <td>565.799</td>\n",
       "      <td>0.123446</td>\n",
       "      <td>26.903642</td>\n",
       "      <td>NaN</td>\n",
       "      <td>0.000011</td>\n",
       "      <td>32.987602</td>\n",
       "      <td>838.949</td>\n",
       "      <td>565.799</td>\n",
       "      <td>32.987602</td>\n",
       "      <td>0.000000</td>\n",
       "      <td>32.987602</td>\n",
       "      <td>1.000000</td>\n",
       "      <td>NaN</td>\n",
       "      <td>#DIV/0!</td>\n",
       "      <td>0.00001</td>\n",
       "      <td>1.000000</td>\n",
       "      <td>NaN</td>\n",
       "      <td>NaN</td>\n",
       "    </tr>\n",
       "    <tr>\n",
       "      <th>639</th>\n",
       "      <td>565.799</td>\n",
       "      <td>0.123446</td>\n",
       "      <td>32.987602</td>\n",
       "      <td>26.903642</td>\n",
       "      <td>0.000011</td>\n",
       "      <td>NaN</td>\n",
       "      <td>838.949</td>\n",
       "      <td>565.799</td>\n",
       "      <td>NaN</td>\n",
       "      <td>NaN</td>\n",
       "      <td>NaN</td>\n",
       "      <td>NaN</td>\n",
       "      <td>NaN</td>\n",
       "      <td>NaN</td>\n",
       "      <td>NaN</td>\n",
       "      <td>NaN</td>\n",
       "      <td>NaN</td>\n",
       "      <td>NaN</td>\n",
       "    </tr>\n",
       "    <tr>\n",
       "      <th>640</th>\n",
       "      <td>565.777</td>\n",
       "      <td>0.000000</td>\n",
       "      <td>26.995709</td>\n",
       "      <td>60.938366</td>\n",
       "      <td>NaN</td>\n",
       "      <td>NaN</td>\n",
       "      <td>838.927</td>\n",
       "      <td>565.777</td>\n",
       "      <td>NaN</td>\n",
       "      <td>NaN</td>\n",
       "      <td>NaN</td>\n",
       "      <td>NaN</td>\n",
       "      <td>NaN</td>\n",
       "      <td>NaN</td>\n",
       "      <td>NaN</td>\n",
       "      <td>NaN</td>\n",
       "      <td>NaN</td>\n",
       "      <td>NaN</td>\n",
       "    </tr>\n",
       "  </tbody>\n",
       "</table>\n",
       "</div>"
      ],
      "text/plain": [
       "     Temperature [°C]  Mole fraction of liquid  Mole percent of Ag in FCC_A1  \\\n",
       "636           565.999                 0.126581                     25.987650   \n",
       "637           565.899                 0.125097                     26.436750   \n",
       "638           565.799                 0.123446                     26.903642   \n",
       "639           565.799                 0.123446                     32.987602   \n",
       "640           565.777                 0.000000                     26.995709   \n",
       "\n",
       "     Mole percent of Ag in HCP_A3  Molar volume of LIQUID  \\\n",
       "636                           NaN                0.000011   \n",
       "637                           NaN                0.000011   \n",
       "638                           NaN                0.000011   \n",
       "639                     26.903642                0.000011   \n",
       "640                     60.938366                     NaN   \n",
       "\n",
       "     Mole percent of Ag in LIQUID  Temperature [K]  Temp (cels)  \\\n",
       "636                     32.831447          839.149      565.999   \n",
       "637                     32.907338          839.049      565.899   \n",
       "638                     32.987602          838.949      565.799   \n",
       "639                           NaN          838.949      565.799   \n",
       "640                           NaN          838.927      565.777   \n",
       "\n",
       "     Solid comp. (at% Ag)  Mole frac. Liquid  Liquid comp. (at% Ag)         k  \\\n",
       "636             26.903642           0.123446              32.987602  0.815568   \n",
       "637             32.987602           0.123446              32.987602  1.000000   \n",
       "638             32.987602           0.000000              32.987602  1.000000   \n",
       "639                   NaN                NaN                    NaN       NaN   \n",
       "640                   NaN                NaN                    NaN       NaN   \n",
       "\n",
       "     V_m liq.   V frac liq  V_m FCC  V frac sol       VmL-VmS  \\\n",
       "636  0.000011  0.125762079  0.00001    0.876423  5.990450e-07   \n",
       "637  0.000011  0.125762079  0.00001    0.876488  5.998110e-07   \n",
       "638       NaN      #DIV/0!  0.00001    1.000000           NaN   \n",
       "639       NaN          NaN      NaN         NaN           NaN   \n",
       "640       NaN          NaN      NaN         NaN           NaN   \n",
       "\n",
       "     delta V norm by VL  \n",
       "636            0.054312  \n",
       "637            0.054382  \n",
       "638                 NaN  \n",
       "639                 NaN  \n",
       "640                 NaN  "
      ]
     },
     "execution_count": 6,
     "metadata": {},
     "output_type": "execute_result"
    }
   ],
   "source": [
    "scheil_df.tail()"
   ]
  },
  {
   "cell_type": "code",
   "execution_count": 7,
   "id": "281f10e8",
   "metadata": {},
   "outputs": [
    {
     "name": "stdout",
     "output_type": "stream",
     "text": [
      "(638,)\n",
      "float64\n"
     ]
    }
   ],
   "source": [
    "temp = scheil_df['Temperature [°C]'].to_numpy()\n",
    "temp = temp[0:638]\n",
    "print(temp.shape)\n",
    "print(temp.dtype)"
   ]
  },
  {
   "cell_type": "code",
   "execution_count": 8,
   "id": "18a398c4",
   "metadata": {},
   "outputs": [
    {
     "name": "stdout",
     "output_type": "stream",
     "text": [
      "(638,)\n",
      "float64\n"
     ]
    }
   ],
   "source": [
    "v_frac_sol = scheil_df['V frac sol'].to_numpy()\n",
    "v_frac_sol = v_frac_sol[:638]\n",
    "print(v_frac_sol.shape)\n",
    "print(v_frac_sol.dtype)"
   ]
  },
  {
   "cell_type": "code",
   "execution_count": 9,
   "id": "c8bfe36d",
   "metadata": {},
   "outputs": [
    {
     "name": "stdout",
     "output_type": "stream",
     "text": [
      "(638,)\n",
      "object\n"
     ]
    }
   ],
   "source": [
    "v_frac_liq = scheil_df['V frac liq'].to_numpy()\n",
    "v_frac_liq = v_frac_liq[:638]\n",
    "print(v_frac_liq.shape)\n",
    "print(v_frac_liq.dtype)"
   ]
  },
  {
   "cell_type": "code",
   "execution_count": 10,
   "id": "ffc94af6",
   "metadata": {},
   "outputs": [
    {
     "data": {
      "text/plain": [
       "array(['1', '0.999875316', '0.994308155', '0.988791341', '0.983324253',\n",
       "       '0.977906275', '0.972536804', '0.967215243', '0.961941009',\n",
       "       '0.956713523', '0.951532217', '0.946396533', '0.941305919',\n",
       "       '0.936259832', '0.931257739', '0.926299114', '0.921383437',\n",
       "       '0.916510198', '0.911678895', '0.906889031', '0.902140119',\n",
       "       '0.897431677', '0.892763232', '0.888134317', '0.883544471',\n",
       "       '0.878993243', '0.874480184', '0.870004854', '0.86556682',\n",
       "       '0.861165655', '0.856800935', '0.852472248', '0.848179182',\n",
       "       '0.843921334', '0.839698307', '0.835509708', '0.83135515',\n",
       "       '0.827234253', '0.82314664', '0.819091941', '0.81506979',\n",
       "       '0.811079828', '0.807121698', '0.803195051', '0.799299541',\n",
       "       '0.795434827', '0.791600573', '0.787796448', '0.784022124',\n",
       "       '0.78027728', '0.776561597', '0.772874761', '0.769216462',\n",
       "       '0.765586397', '0.761984262', '0.758409761', '0.754862601',\n",
       "       '0.751342492', '0.747849149', '0.74438229', '0.740941637',\n",
       "       '0.737526915', '0.734137855', '0.730774189', '0.727435653',\n",
       "       '0.724121986', '0.720832933', '0.71756824', '0.714327656',\n",
       "       '0.711110934', '0.707917831', '0.704748105', '0.70160152',\n",
       "       '0.698477841', '0.695376836', '0.692298277', '0.689241937',\n",
       "       '0.686207594', '0.683195028', '0.680204022', '0.67723436',\n",
       "       '0.674285832', '0.671358228', '0.66845134', '0.665564966',\n",
       "       '0.662698904', '0.659852954', '0.65702692', '0.654220608',\n",
       "       '0.651433825', '0.648666384', '0.645918096', '0.643188776',\n",
       "       '0.640478242', '0.637786314', '0.635112813', '0.632457563',\n",
       "       '0.62982039', '0.627201123', '0.624599592', '0.622015628',\n",
       "       '0.619449067', '0.616899743', '0.614367496', '0.611852165',\n",
       "       '0.609353593', '0.606871622', '0.6044061', '0.601956872',\n",
       "       '0.599523789', '0.597106701', '0.594705461', '0.592319924',\n",
       "       '0.589949945', '0.587595382', '0.585256095', '0.582931945',\n",
       "       '0.580622794', '0.578328507', '0.576048948', '0.573783987',\n",
       "       '0.57153349', '0.569297329', '0.567075375', '0.564867502',\n",
       "       '0.562673583', '0.560493496', '0.558327117', '0.556174325',\n",
       "       '0.554035', '0.551909024', '0.549796279', '0.54769665',\n",
       "       '0.545610022', '0.543536282', '0.541475317', '0.539427016',\n",
       "       '0.53739127', '0.535367971', '0.53335701', '0.531358283',\n",
       "       '0.529371683', '0.527397107', '0.525434453', '0.523483618',\n",
       "       '0.521544503', '0.519617007', '0.517701033', '0.515796483',\n",
       "       '0.51390326', '0.512021271', '0.510150419', '0.508290612',\n",
       "       '0.506441759', '0.504603766', '0.502776545', '0.500960006',\n",
       "       '0.49915406', '0.49735862', '0.495573599', '0.493798912',\n",
       "       '0.492034474', '0.490280201', '0.488536009', '0.486801817',\n",
       "       '0.485077544', '0.483363108', '0.481658431', '0.479963433',\n",
       "       '0.478278036', '0.476602163', '0.474935738', '0.473278685',\n",
       "       '0.471630928', '0.469992395', '0.46836301', '0.466742703',\n",
       "       '0.4651314', '0.463529031', '0.461935525', '0.460350812',\n",
       "       '0.458774824', '0.457207491', '0.455648747', '0.454098523',\n",
       "       '0.452556754', '0.451023374', '0.449498318', '0.447981521',\n",
       "       '0.44647292', '0.444972451', '0.443480053', '0.441995662',\n",
       "       '0.440519217', '0.439050658', '0.437589925', '0.436136959',\n",
       "       '0.434691699', '0.433254087', '0.431824067', '0.43040158',\n",
       "       '0.42898657', '0.42757898', '0.426178755', '0.42478584',\n",
       "       '0.42340018', '0.42202172', '0.420650409', '0.419286191',\n",
       "       '0.417929015', '0.416578829', '0.415235581', '0.413899219',\n",
       "       '0.412569695', '0.411246956', '0.409930954', '0.408621638',\n",
       "       '0.407318962', '0.406022876', '0.404733332', '0.403450283',\n",
       "       '0.402173682', '0.400903482', '0.399639637', '0.398382103',\n",
       "       '0.397130832', '0.395885781', '0.394646905', '0.39341416',\n",
       "       '0.392187502', '0.390966889', '0.389752276', '0.388543623',\n",
       "       '0.387340886', '0.386144024', '0.384952995', '0.38376776',\n",
       "       '0.382588276', '0.381414504', '0.380246405', '0.379083937',\n",
       "       '0.377927064', '0.376775744', '0.375629941', '0.374489616',\n",
       "       '0.373354731', '0.372225248', '0.371101131', '0.369982343',\n",
       "       '0.368868847', '0.367760608', '0.366657588', '0.365559754',\n",
       "       '0.364467069', '0.363379498', '0.362297008', '0.361219563',\n",
       "       '0.36014713', '0.359079674', '0.358017164', '0.356959564',\n",
       "       '0.355906844', '0.354858969', '0.353815908', '0.352777628',\n",
       "       '0.351744098', '0.350715287', '0.349691162', '0.348671694',\n",
       "       '0.347656852', '0.346646604', '0.345640921', '0.344639773',\n",
       "       '0.343643131', '0.342650964', '0.341663244', '0.340679942',\n",
       "       '0.339701029', '0.338726476', '0.337756256', '0.33679034',\n",
       "       '0.3358287', '0.33487131', '0.333918141', '0.332969167',\n",
       "       '0.332024361', '0.331083696', '0.330147146', '0.329214684',\n",
       "       '0.328286285', '0.327361922', '0.326441571', '0.325525206',\n",
       "       '0.324612801', '0.323704331', '0.322799773', '0.321899101',\n",
       "       '0.321002291', '0.320109319', '0.319220161', '0.318334792',\n",
       "       '0.31745319', '0.316575331', '0.315701192', '0.314830749',\n",
       "       '0.31396398', '0.313100862', '0.312241373', '0.31138549',\n",
       "       '0.310533192', '0.309684455', '0.308839258', '0.307997581',\n",
       "       '0.3071594', '0.306324695', '0.305493445', '0.304665628',\n",
       "       '0.303841224', '0.303020213', '0.302202573', '0.301388284',\n",
       "       '0.300577326', '0.299769679', '0.298965323', '0.298164238',\n",
       "       '0.297366405', '0.296571804', '0.295780417', '0.294992222',\n",
       "       '0.294207203', '0.293425339', '0.292646612', '0.291871003',\n",
       "       '0.291098495', '0.290329068', '0.289562704', '0.288799385',\n",
       "       '0.288039094', '0.287281812', '0.286527522', '0.285776206',\n",
       "       '0.285027847', '0.284282427', '0.28353993', '0.282800337',\n",
       "       '0.282063633', '0.2813298', '0.280598822', '0.279870682',\n",
       "       '0.279145363', '0.278422849', '0.277703125', '0.276986173',\n",
       "       '0.276271978', '0.275560524', '0.274851794', '0.274145774',\n",
       "       '0.273442448', '0.2727418', '0.272043815', '0.271348477',\n",
       "       '0.270655771', '0.269965683', '0.269278197', '0.268593298',\n",
       "       '0.267910972', '0.267231203', '0.266553978', '0.265879282',\n",
       "       '0.2652071', '0.264537417', '0.263870221', '0.263205496',\n",
       "       '0.262543229', '0.261883405', '0.261226011', '0.260571033',\n",
       "       '0.259918458', '0.259268271', '0.258620458', '0.257975008',\n",
       "       '0.257331906', '0.256691138', '0.256052693', '0.255416556',\n",
       "       '0.254782714', '0.254151155', '0.253521866', '0.252894833',\n",
       "       '0.252270044', '0.251647487', '0.251027148', '0.250409016',\n",
       "       '0.249793077', '0.24917932', '0.248567731', '0.247958299',\n",
       "       '0.247351012', '0.246745857', '0.246142822', '0.245541895',\n",
       "       '0.244943064', '0.244346318', '0.243751645', '0.243159032',\n",
       "       '0.242568468', '0.241979942', '0.241393442', '0.240808955',\n",
       "       '0.240226472', '0.23964598', '0.239067467', '0.238490924',\n",
       "       '0.237916338', '0.237343698', '0.236772993', '0.236204212',\n",
       "       '0.235637343', '0.235072376', '0.2345093', '0.233948104',\n",
       "       '0.233388777', '0.232831308', '0.232275686', '0.231721901',\n",
       "       '0.231169941', '0.230619797', '0.230071457', '0.229524911',\n",
       "       '0.228980148', '0.228437157', '0.227895929', '0.227356453',\n",
       "       '0.226818718', '0.226282714', '0.225748431', '0.225215857',\n",
       "       '0.224684984', '0.2241558', '0.223628296', '0.223102461',\n",
       "       '0.222578284', '0.222055757', '0.221534868', '0.221015607',\n",
       "       '0.220497965', '0.219981931', '0.219467495', '0.218954647',\n",
       "       '0.218443377', '0.217933676', '0.217425532', '0.216918936',\n",
       "       '0.216413879', '0.215910349', '0.215408337', '0.214907834',\n",
       "       '0.214408829', '0.213911312', '0.213415273', '0.212920702',\n",
       "       '0.21242759', '0.21242759', '0.211935927', '0.211445702',\n",
       "       '0.210956905', '0.210469527', '0.209983558', '0.209498988',\n",
       "       '0.209015806', '0.208534003', '0.208053569', '0.207574493',\n",
       "       '0.207096767', '0.206620379', '0.20614532', '0.205671579',\n",
       "       '0.205199147', '0.204728014', '0.204258168', '0.203789601',\n",
       "       '0.203322302', '0.20285626', '0.202391466', '0.201927909',\n",
       "       '0.201465579', '0.201004465', '0.200544557', '0.200085845',\n",
       "       '0.199628318', '0.199171965', '0.198716776', '0.198262741',\n",
       "       '0.197809848', '0.197358086', '0.196907446', '0.196457915',\n",
       "       '0.196009484', '0.19556214', '0.195115874', '0.194670672',\n",
       "       '0.194226526', '0.193783422', '0.193341349', '0.192900297',\n",
       "       '0.192460253', '0.192021205', '0.191583143', '0.191146052',\n",
       "       '0.190709923', '0.190274742', '0.189840497', '0.189407176',\n",
       "       '0.188974765', '0.188543253', '0.188112627', '0.187682873',\n",
       "       '0.187253978', '0.186825929', '0.186398713', '0.185972315',\n",
       "       '0.185546722', '0.18512192', '0.184697894', '0.18427463',\n",
       "       '0.183852114', '0.18343033', '0.183009263', '0.182588898',\n",
       "       '0.182169219', '0.181750211', '0.181331856', '0.180914139',\n",
       "       '0.180497043', '0.180080551', '0.179664645', '0.179249308',\n",
       "       '0.178834521', '0.178420266', '0.178006524', '0.177593276',\n",
       "       '0.177180503', '0.176768184', '0.176356298', '0.175944825',\n",
       "       '0.175533743', '0.175123029', '0.174712662', '0.174302619',\n",
       "       '0.173892874', '0.173483405', '0.173074186', '0.172665191',\n",
       "       '0.172256394', '0.171847767', '0.171439283', '0.171030913',\n",
       "       '0.170622626', '0.170214393', '0.169806182', '0.16939796',\n",
       "       '0.168989694', '0.168581348', '0.168172887', '0.167764273',\n",
       "       '0.167355469', '0.166946432', '0.166537124', '0.166127499',\n",
       "       '0.165717514', '0.165307122', '0.164896274', '0.164484921',\n",
       "       '0.16407301', '0.163660486', '0.163247292', '0.162833369',\n",
       "       '0.162418654', '0.162003082', '0.161586584', '0.16116909',\n",
       "       '0.160750523', '0.160330806', '0.159909855', '0.159487582',\n",
       "       '0.159063896', '0.158638699', '0.158211889', '0.157783358',\n",
       "       '0.157352991', '0.156920665', '0.156486252', '0.156049614',\n",
       "       '0.155610606', '0.155169071', '0.154724842', '0.154277743',\n",
       "       '0.153827583', '0.153374157', '0.152917246', '0.152456613',\n",
       "       '0.151992005', '0.151523145', '0.151049735', '0.150571452',\n",
       "       '0.150087945', '0.14959883', '0.149103688', '0.148602062',\n",
       "       '0.148093449', '0.147577295', '0.147052988', '0.146519853',\n",
       "       '0.145977139', '0.145424009', '0.14485953', '0.144282654',\n",
       "       '0.143692203', '0.143086846', '0.142465076', '0.141825177',\n",
       "       '0.141165188', '0.140482859', '0.139775597', '0.139040398',\n",
       "       '0.138273766', '0.137471612', '0.136629126', '0.135740619',\n",
       "       '0.134799315', '0.133797091', '0.132724134', '0.131568481',\n",
       "       '0.130315401', '0.128946541', '0.127438705', '0.125762079',\n",
       "       '0.125762079'], dtype=object)"
      ]
     },
     "execution_count": 10,
     "metadata": {},
     "output_type": "execute_result"
    }
   ],
   "source": [
    "v_frac_liq"
   ]
  },
  {
   "cell_type": "code",
   "execution_count": 11,
   "id": "05622720",
   "metadata": {},
   "outputs": [
    {
     "name": "stdout",
     "output_type": "stream",
     "text": [
      "object\n",
      "float64\n"
     ]
    }
   ],
   "source": [
    "v_frac_liq = scheil_df['V frac liq'].to_numpy()\n",
    "v_frac_liq = v_frac_liq[:638]\n",
    "print(v_frac_liq.dtype)\n",
    "v_frac_liq = v_frac_liq.astype(float)\n",
    "print(v_frac_liq.dtype)"
   ]
  },
  {
   "cell_type": "code",
   "execution_count": 12,
   "id": "78f0d420",
   "metadata": {},
   "outputs": [
    {
     "data": {
      "image/png": "[encoded data removed]",
      "text/plain": [
       "<Figure size 432x288 with 1 Axes>"
      ]
     },
     "metadata": {
      "needs_background": "light"
     },
     "output_type": "display_data"
    }
   ],
   "source": [
    "fig, ax = plt.subplots()\n",
    "\n",
    "ax.plot(temp, v_frac_liq, label='Liquid')\n",
    "ax.plot(temp, v_frac_sol, label='Solid')\n",
    "\n",
    "ax.set_xlabel('Temperature (°C)')\n",
    "ax.set_ylabel('Volume fraction')\n",
    "\n",
    "plt.legend()\n",
    "plt.show()"
   ]
  },
  {
   "cell_type": "markdown",
   "id": "4133c52b",
   "metadata": {},
   "source": [
    "# Load EDS data"
   ]
  },
  {
   "cell_type": "code",
   "execution_count": 13,
   "id": "404398cb",
   "metadata": {},
   "outputs": [
    {
     "data": {
      "text/plain": [
       "True"
      ]
     },
     "execution_count": 13,
     "metadata": {},
     "output_type": "execute_result"
    }
   ],
   "source": [
    "eds_path = Path('../data/EDS-MegaDendrite1.csv')\n",
    "eds_path.exists()"
   ]
  },
  {
   "cell_type": "code",
   "execution_count": 14,
   "id": "e7032630",
   "metadata": {},
   "outputs": [],
   "source": [
    "# This file has a header that we need to ignore. \n",
    "# Uncomment the lines below to see the error raised without addressing this.\n",
    "# eds_df = pd.read_csv(eds_path)\n",
    "# eds_df.head()"
   ]
  },
  {
   "cell_type": "code",
   "execution_count": 15,
   "id": "f393d61a",
   "metadata": {},
   "outputs": [
    {
     "data": {
      "text/html": [
       "<div>\n",
       "<style scoped>\n",
       "    .dataframe tbody tr th:only-of-type {\n",
       "        vertical-align: middle;\n",
       "    }\n",
       "\n",
       "    .dataframe tbody tr th {\n",
       "        vertical-align: top;\n",
       "    }\n",
       "\n",
       "    .dataframe thead th {\n",
       "        text-align: right;\n",
       "    }\n",
       "</style>\n",
       "<table border=\"1\" class=\"dataframe\">\n",
       "  <thead>\n",
       "    <tr style=\"text-align: right;\">\n",
       "      <th></th>\n",
       "      <th></th>\n",
       "      <th>Point</th>\n",
       "      <th>Distance (um)</th>\n",
       "      <th>O K</th>\n",
       "      <th>Al K</th>\n",
       "      <th>Ag L</th>\n",
       "      <th>Image</th>\n",
       "      <th>Frame</th>\n",
       "    </tr>\n",
       "  </thead>\n",
       "  <tbody>\n",
       "    <tr>\n",
       "      <th>1</th>\n",
       "      <th>0.0</th>\n",
       "      <td>1.123</td>\n",
       "      <td>73.283</td>\n",
       "      <td>25.594</td>\n",
       "      <td>5905</td>\n",
       "      <td>1</td>\n",
       "      <td></td>\n",
       "      <td></td>\n",
       "    </tr>\n",
       "    <tr>\n",
       "      <th>2</th>\n",
       "      <th>1.0</th>\n",
       "      <td>2.143</td>\n",
       "      <td>72.798</td>\n",
       "      <td>25.059</td>\n",
       "      <td>13751</td>\n",
       "      <td>1</td>\n",
       "      <td></td>\n",
       "      <td></td>\n",
       "    </tr>\n",
       "    <tr>\n",
       "      <th>3</th>\n",
       "      <th>2.0</th>\n",
       "      <td>2.487</td>\n",
       "      <td>72.952</td>\n",
       "      <td>24.561</td>\n",
       "      <td>3060</td>\n",
       "      <td>1</td>\n",
       "      <td></td>\n",
       "      <td></td>\n",
       "    </tr>\n",
       "    <tr>\n",
       "      <th>4</th>\n",
       "      <th>3.0</th>\n",
       "      <td>2.652</td>\n",
       "      <td>72.626</td>\n",
       "      <td>24.721</td>\n",
       "      <td>5911</td>\n",
       "      <td>1</td>\n",
       "      <td></td>\n",
       "      <td></td>\n",
       "    </tr>\n",
       "    <tr>\n",
       "      <th>5</th>\n",
       "      <th>4.0</th>\n",
       "      <td>2.217</td>\n",
       "      <td>73.762</td>\n",
       "      <td>24.021</td>\n",
       "      <td>4317</td>\n",
       "      <td>1</td>\n",
       "      <td></td>\n",
       "      <td></td>\n",
       "    </tr>\n",
       "  </tbody>\n",
       "</table>\n",
       "</div>"
      ],
      "text/plain": [
       "       Point   Distance (um)     O K   Al K   Ag L  Image  Frame\n",
       "1 0.0  1.123          73.283  25.594   5905      1              \n",
       "2 1.0  2.143          72.798  25.059  13751      1              \n",
       "3 2.0  2.487          72.952  24.561   3060      1              \n",
       "4 3.0  2.652          72.626  24.721   5911      1              \n",
       "5 4.0  2.217          73.762  24.021   4317      1              "
      ]
     },
     "execution_count": 15,
     "metadata": {},
     "output_type": "execute_result"
    }
   ],
   "source": [
    "eds_df = pd.read_csv(eds_path, header=15)\n",
    "eds_df.head()"
   ]
  },
  {
   "cell_type": "code",
   "execution_count": 16,
   "id": "c14c0346",
   "metadata": {},
   "outputs": [
    {
     "name": "stderr",
     "output_type": "stream",
     "text": [
      "C:\\Users\\cgusb\\Python\\envs\\img-proc-env\\lib\\site-packages\\pandas\\util\\_decorators.py:311: ParserWarning: Length of header or names does not match length of data. This leads to a loss of data with index_col=False.\n",
      "  return func(*args, **kwargs)\n"
     ]
    },
    {
     "data": {
      "text/html": [
       "<div>\n",
       "<style scoped>\n",
       "    .dataframe tbody tr th:only-of-type {\n",
       "        vertical-align: middle;\n",
       "    }\n",
       "\n",
       "    .dataframe tbody tr th {\n",
       "        vertical-align: top;\n",
       "    }\n",
       "\n",
       "    .dataframe thead th {\n",
       "        text-align: right;\n",
       "    }\n",
       "</style>\n",
       "<table border=\"1\" class=\"dataframe\">\n",
       "  <thead>\n",
       "    <tr style=\"text-align: right;\">\n",
       "      <th></th>\n",
       "      <th>Point</th>\n",
       "      <th>Distance (um)</th>\n",
       "      <th>O K</th>\n",
       "      <th>Al K</th>\n",
       "      <th>Ag L</th>\n",
       "      <th>Image</th>\n",
       "      <th>Frame</th>\n",
       "    </tr>\n",
       "  </thead>\n",
       "  <tbody>\n",
       "    <tr>\n",
       "      <th>0</th>\n",
       "      <td>1</td>\n",
       "      <td>0.0</td>\n",
       "      <td>1.123</td>\n",
       "      <td>73.283</td>\n",
       "      <td>25.594</td>\n",
       "      <td>5905</td>\n",
       "      <td>1</td>\n",
       "    </tr>\n",
       "    <tr>\n",
       "      <th>1</th>\n",
       "      <td>2</td>\n",
       "      <td>1.0</td>\n",
       "      <td>2.143</td>\n",
       "      <td>72.798</td>\n",
       "      <td>25.059</td>\n",
       "      <td>13751</td>\n",
       "      <td>1</td>\n",
       "    </tr>\n",
       "    <tr>\n",
       "      <th>2</th>\n",
       "      <td>3</td>\n",
       "      <td>2.0</td>\n",
       "      <td>2.487</td>\n",
       "      <td>72.952</td>\n",
       "      <td>24.561</td>\n",
       "      <td>3060</td>\n",
       "      <td>1</td>\n",
       "    </tr>\n",
       "    <tr>\n",
       "      <th>3</th>\n",
       "      <td>4</td>\n",
       "      <td>3.0</td>\n",
       "      <td>2.652</td>\n",
       "      <td>72.626</td>\n",
       "      <td>24.721</td>\n",
       "      <td>5911</td>\n",
       "      <td>1</td>\n",
       "    </tr>\n",
       "    <tr>\n",
       "      <th>4</th>\n",
       "      <td>5</td>\n",
       "      <td>4.0</td>\n",
       "      <td>2.217</td>\n",
       "      <td>73.762</td>\n",
       "      <td>24.021</td>\n",
       "      <td>4317</td>\n",
       "      <td>1</td>\n",
       "    </tr>\n",
       "  </tbody>\n",
       "</table>\n",
       "</div>"
      ],
      "text/plain": [
       "   Point   Distance (um)    O K    Al K    Ag L   Image   Frame\n",
       "0      1             0.0  1.123  73.283  25.594    5905       1\n",
       "1      2             1.0  2.143  72.798  25.059   13751       1\n",
       "2      3             2.0  2.487  72.952  24.561    3060       1\n",
       "3      4             3.0  2.652  72.626  24.721    5911       1\n",
       "4      5             4.0  2.217  73.762  24.021    4317       1"
      ]
     },
     "execution_count": 16,
     "metadata": {},
     "output_type": "execute_result"
    }
   ],
   "source": [
    "eds_df = pd.read_csv(eds_path, header=15, index_col=False)\n",
    "eds_df.head()"
   ]
  },
  {
   "cell_type": "code",
   "execution_count": 17,
   "id": "dd10cb0a",
   "metadata": {},
   "outputs": [
    {
     "data": {
      "text/html": [
       "<div>\n",
       "<style scoped>\n",
       "    .dataframe tbody tr th:only-of-type {\n",
       "        vertical-align: middle;\n",
       "    }\n",
       "\n",
       "    .dataframe tbody tr th {\n",
       "        vertical-align: top;\n",
       "    }\n",
       "\n",
       "    .dataframe thead th {\n",
       "        text-align: right;\n",
       "    }\n",
       "</style>\n",
       "<table border=\"1\" class=\"dataframe\">\n",
       "  <thead>\n",
       "    <tr style=\"text-align: right;\">\n",
       "      <th></th>\n",
       "      <th>Point</th>\n",
       "      <th>Distance (um)</th>\n",
       "      <th>O K</th>\n",
       "      <th>Al K</th>\n",
       "      <th>Ag L</th>\n",
       "      <th>Image</th>\n",
       "      <th>Frame</th>\n",
       "    </tr>\n",
       "  </thead>\n",
       "  <tbody>\n",
       "    <tr>\n",
       "      <th>739</th>\n",
       "      <td>740</td>\n",
       "      <td>739.0</td>\n",
       "      <td>1.856</td>\n",
       "      <td>76.687</td>\n",
       "      <td>21.458</td>\n",
       "      <td>12208</td>\n",
       "      <td>1</td>\n",
       "    </tr>\n",
       "    <tr>\n",
       "      <th>740</th>\n",
       "      <td>741</td>\n",
       "      <td>740.0</td>\n",
       "      <td>1.192</td>\n",
       "      <td>77.026</td>\n",
       "      <td>21.783</td>\n",
       "      <td>9932</td>\n",
       "      <td>1</td>\n",
       "    </tr>\n",
       "    <tr>\n",
       "      <th>741</th>\n",
       "      <td>742</td>\n",
       "      <td>741.0</td>\n",
       "      <td>2.486</td>\n",
       "      <td>76.310</td>\n",
       "      <td>21.203</td>\n",
       "      <td>4702</td>\n",
       "      <td>1</td>\n",
       "    </tr>\n",
       "    <tr>\n",
       "      <th>742</th>\n",
       "      <td>743</td>\n",
       "      <td>742.0</td>\n",
       "      <td>1.832</td>\n",
       "      <td>76.513</td>\n",
       "      <td>21.654</td>\n",
       "      <td>18560</td>\n",
       "      <td>1</td>\n",
       "    </tr>\n",
       "    <tr>\n",
       "      <th>743</th>\n",
       "      <td>744</td>\n",
       "      <td>743.0</td>\n",
       "      <td>2.030</td>\n",
       "      <td>76.102</td>\n",
       "      <td>21.868</td>\n",
       "      <td>6724</td>\n",
       "      <td>1</td>\n",
       "    </tr>\n",
       "  </tbody>\n",
       "</table>\n",
       "</div>"
      ],
      "text/plain": [
       "     Point   Distance (um)    O K    Al K    Ag L   Image   Frame\n",
       "739    740           739.0  1.856  76.687  21.458   12208       1\n",
       "740    741           740.0  1.192  77.026  21.783    9932       1\n",
       "741    742           741.0  2.486  76.310  21.203    4702       1\n",
       "742    743           742.0  1.832  76.513  21.654   18560       1\n",
       "743    744           743.0  2.030  76.102  21.868    6724       1"
      ]
     },
     "execution_count": 17,
     "metadata": {},
     "output_type": "execute_result"
    }
   ],
   "source": [
    "eds_df.tail()"
   ]
  },
  {
   "cell_type": "code",
   "execution_count": 18,
   "id": "5abfdc06",
   "metadata": {},
   "outputs": [
    {
     "data": {
      "text/plain": [
       "Index(['Point', ' Distance (um)', ' O K', ' Al K', ' Ag L', ' Image',\n",
       "       ' Frame'],\n",
       "      dtype='object')"
      ]
     },
     "execution_count": 18,
     "metadata": {},
     "output_type": "execute_result"
    }
   ],
   "source": [
    "eds_df.columns"
   ]
  },
  {
   "cell_type": "code",
   "execution_count": 19,
   "id": "fdac293f",
   "metadata": {},
   "outputs": [
    {
     "data": {
      "text/plain": [
       "dtype('float64')"
      ]
     },
     "execution_count": 19,
     "metadata": {},
     "output_type": "execute_result"
    }
   ],
   "source": [
    "dist = eds_df[' Distance (um)'].to_numpy()\n",
    "dist.dtype"
   ]
  },
  {
   "cell_type": "code",
   "execution_count": 20,
   "id": "60859b53",
   "metadata": {},
   "outputs": [
    {
     "data": {
      "text/plain": [
       "dtype('float64')"
      ]
     },
     "execution_count": 20,
     "metadata": {},
     "output_type": "execute_result"
    }
   ],
   "source": [
    "ox = eds_df[' O K'].to_numpy()\n",
    "ox.dtype"
   ]
  },
  {
   "cell_type": "code",
   "execution_count": 21,
   "id": "350216cd",
   "metadata": {},
   "outputs": [
    {
     "data": {
      "text/plain": [
       "dtype('float64')"
      ]
     },
     "execution_count": 21,
     "metadata": {},
     "output_type": "execute_result"
    }
   ],
   "source": [
    "al = eds_df[' Al K'].to_numpy()\n",
    "al.dtype"
   ]
  },
  {
   "cell_type": "code",
   "execution_count": 22,
   "id": "5f025fba",
   "metadata": {},
   "outputs": [
    {
     "data": {
      "text/plain": [
       "dtype('float64')"
      ]
     },
     "execution_count": 22,
     "metadata": {},
     "output_type": "execute_result"
    }
   ],
   "source": [
    "ag = eds_df[' Ag L'].to_numpy()\n",
    "ag.dtype"
   ]
  },
  {
   "cell_type": "code",
   "execution_count": 23,
   "id": "be1c23db",
   "metadata": {},
   "outputs": [
    {
     "data": {
      "image/png": "[encoded data removed]",
      "text/plain": [
       "<Figure size 432x288 with 1 Axes>"
      ]
     },
     "metadata": {
      "needs_background": "light"
     },
     "output_type": "display_data"
    }
   ],
   "source": [
    "fig, ax = plt.subplots()\n",
    "\n",
    "ax.plot(dist, ox)\n",
    "ax.plot(dist, al)\n",
    "ax.plot(dist, ag)\n",
    "\n",
    "plt.show()"
   ]
  },
  {
   "cell_type": "code",
   "execution_count": 24,
   "id": "b6229a64",
   "metadata": {},
   "outputs": [
    {
     "data": {
      "image/png": "[encoded data removed]",
      "text/plain": [
       "<Figure size 720x432 with 1 Axes>"
      ]
     },
     "metadata": {
      "needs_background": "light"
     },
     "output_type": "display_data"
    }
   ],
   "source": [
    "fig, ax = plt.subplots(figsize=(10, 6))\n",
    "\n",
    "ax.plot(dist, ox)\n",
    "ax.plot(dist, al)\n",
    "ax.plot(dist, ag)\n",
    "\n",
    "plt.show()"
   ]
  },
  {
   "cell_type": "code",
   "execution_count": 25,
   "id": "b6da3e95",
   "metadata": {},
   "outputs": [
    {
     "data": {
      "image/png": "[encoded data removed]",
      "text/plain": [
       "<Figure size 720x432 with 1 Axes>"
      ]
     },
     "metadata": {
      "needs_background": "light"
     },
     "output_type": "display_data"
    }
   ],
   "source": [
    "fig, ax = plt.subplots(figsize=(10, 6))\n",
    "\n",
    "ax.plot(dist, ox, label='O')\n",
    "ax.plot(dist, al, label='Al')\n",
    "ax.plot(dist, ag, label='Ag')\n",
    "\n",
    "ax.set_ylabel('Elemental Content (%)')\n",
    "ax.set_xlabel('Distance ($\\mu$m)')\n",
    "\n",
    "plt.legend()\n",
    "plt.show()"
   ]
  }
 ],
 "metadata": {
  "kernelspec": {
   "display_name": "Python 3",
   "language": "python",
   "name": "python3"
  },
  "language_info": {
   "codemirror_mode": {
    "name": "ipython",
    "version": 3
   },
   "file_extension": ".py",
   "mimetype": "text/x-python",
   "name": "python",
   "nbconvert_exporter": "python",
   "pygments_lexer": "ipython3",
   "version": "3.9.5"
  }
 },
 "nbformat": 4,
 "nbformat_minor": 5
}
