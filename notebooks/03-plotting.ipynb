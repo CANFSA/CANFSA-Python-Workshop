{
 "cells": [
  {
   "cell_type": "markdown",
   "metadata": {},
   "source": [
    "# Generating Data"
   ]
  },
  {
   "cell_type": "code",
   "execution_count": 1,
   "metadata": {},
   "outputs": [
    {
     "data": {
      "text/plain": [
       "array([0, 1, 2, 3, 4, 5, 6, 7, 8, 9])"
      ]
     },
     "execution_count": 1,
     "metadata": {},
     "output_type": "execute_result"
    }
   ],
   "source": [
    "import numpy as np\n",
    "\n",
    "x_arr = np.arange(10)\n",
    "x_arr"
   ]
  },
  {
   "cell_type": "code",
   "execution_count": 2,
   "metadata": {},
   "outputs": [
    {
     "data": {
      "text/plain": [
       "(10,)"
      ]
     },
     "execution_count": 2,
     "metadata": {},
     "output_type": "execute_result"
    }
   ],
   "source": [
    "x_arr.shape"
   ]
  },
  {
   "cell_type": "code",
   "execution_count": 3,
   "metadata": {},
   "outputs": [
    {
     "data": {
      "text/plain": [
       "array([ 3,  5,  7,  9, 11, 13, 15, 17, 19, 21])"
      ]
     },
     "execution_count": 3,
     "metadata": {},
     "output_type": "execute_result"
    }
   ],
   "source": [
    "y_arr = 2*np.copy(x_arr) + 3\n",
    "y_arr"
   ]
  },
  {
   "cell_type": "markdown",
   "metadata": {},
   "source": [
    "# Matplotlib Package"
   ]
  },
  {
   "cell_type": "code",
   "execution_count": 4,
   "metadata": {},
   "outputs": [
    {
     "data": {
      "text/plain": [
       "module"
      ]
     },
     "execution_count": 4,
     "metadata": {},
     "output_type": "execute_result"
    }
   ],
   "source": [
    "import matplotlib.pyplot\n",
    "\n",
    "type(matplotlib.pyplot)"
   ]
  },
  {
   "cell_type": "code",
   "execution_count": 5,
   "metadata": {
    "scrolled": true
   },
   "outputs": [
    {
     "data": {
      "text/plain": [
       "module"
      ]
     },
     "execution_count": 5,
     "metadata": {},
     "output_type": "execute_result"
    }
   ],
   "source": [
    "import matplotlib.pyplot as plt\n",
    "\n",
    "type(plt)"
   ]
  },
  {
   "cell_type": "code",
   "execution_count": 6,
   "metadata": {},
   "outputs": [
    {
     "name": "stdout",
     "output_type": "stream",
     "text": [
      "[0 1 2 3 4 5 6 7 8 9]\n",
      "[ 3  5  7  9 11 13 15 17 19 21]\n"
     ]
    }
   ],
   "source": [
    "print(x_arr)\n",
    "print(y_arr)"
   ]
  },
  {
   "cell_type": "code",
   "execution_count": 7,
   "metadata": {},
   "outputs": [
    {
     "name": "stdout",
     "output_type": "stream",
     "text": [
      "x_arr=array([0, 1, 2, 3, 4, 5, 6, 7, 8, 9])\n",
      "y_arr=array([ 3,  5,  7,  9, 11, 13, 15, 17, 19, 21])\n"
     ]
    }
   ],
   "source": [
    "print(f'{x_arr=}')\n",
    "print(f'{y_arr=}')"
   ]
  },
  {
   "cell_type": "code",
   "execution_count": 8,
   "metadata": {},
   "outputs": [
    {
     "data": {
      "text/plain": [
       "[<matplotlib.lines.Line2D at 0x2b2c36b2d60>]"
      ]
     },
     "execution_count": 8,
     "metadata": {},
     "output_type": "execute_result"
    },
    {
     "data": {
      "image/png": "[encoded data removed]",
      "text/plain": [
       "<Figure size 432x288 with 1 Axes>"
      ]
     },
     "metadata": {
      "needs_background": "light"
     },
     "output_type": "display_data"
    }
   ],
   "source": [
    "plt.plot(x_arr, y_arr)"
   ]
  },
  {
   "cell_type": "code",
   "execution_count": 9,
   "metadata": {},
   "outputs": [
    {
     "data": {
      "image/png": "[encoded data removed]",
      "text/plain": [
       "<Figure size 432x288 with 1 Axes>"
      ]
     },
     "metadata": {
      "needs_background": "light"
     },
     "output_type": "display_data"
    }
   ],
   "source": [
    "plt.plot(x_arr, y_arr)\n",
    "plt.show()"
   ]
  },
  {
   "cell_type": "markdown",
   "metadata": {},
   "source": [
    "# Using Figure and Axes objects"
   ]
  },
  {
   "cell_type": "code",
   "execution_count": 10,
   "metadata": {},
   "outputs": [
    {
     "name": "stdout",
     "output_type": "stream",
     "text": [
      "Help on function subplots in module matplotlib.pyplot:\n",
      "\n",
      "subplots(nrows=1, ncols=1, *, sharex=False, sharey=False, squeeze=True, subplot_kw=None, gridspec_kw=None, **fig_kw)\n",
      "    Create a figure and a set of subplots.\n",
      "    \n",
      "    This utility wrapper makes it convenient to create common layouts of\n",
      "    subplots, including the enclosing figure object, in a single call.\n",
      "    \n",
      "    Parameters\n",
      "    ----------\n",
      "    nrows, ncols : int, default: 1\n",
      "        Number of rows/columns of the subplot grid.\n",
      "    \n",
      "    sharex, sharey : bool or {'none', 'all', 'row', 'col'}, default: False\n",
      "        Controls sharing of properties among x (*sharex*) or y (*sharey*)\n",
      "        axes:\n",
      "    \n",
      "        - True or 'all': x- or y-axis will be shared among all subplots.\n",
      "        - False or 'none': each subplot x- or y-axis will be independent.\n",
      "        - 'row': each subplot row will share an x- or y-axis.\n",
      "        - 'col': each subplot column will share an x- or y-axis.\n",
      "    \n",
      "        When subplots have a shared x-axis along a column, only the x tick\n",
      "        labels of the bottom subplot are created. Similarly, when subplots\n",
      "        have a shared y-axis along a row, only the y tick labels of the first\n",
      "        column subplot are created. To later turn other subplots' ticklabels\n",
      "        on, use `~matplotlib.axes.Axes.tick_params`.\n",
      "    \n",
      "        When subplots have a shared axis that has units, calling\n",
      "        `~matplotlib.axis.Axis.set_units` will update each axis with the\n",
      "        new units.\n",
      "    \n",
      "    squeeze : bool, default: True\n",
      "        - If True, extra dimensions are squeezed out from the returned\n",
      "          array of `~matplotlib.axes.Axes`:\n",
      "    \n",
      "          - if only one subplot is constructed (nrows=ncols=1), the\n",
      "            resulting single Axes object is returned as a scalar.\n",
      "          - for Nx1 or 1xM subplots, the returned object is a 1D numpy\n",
      "            object array of Axes objects.\n",
      "          - for NxM, subplots with N>1 and M>1 are returned as a 2D array.\n",
      "    \n",
      "        - If False, no squeezing at all is done: the returned Axes object is\n",
      "          always a 2D array containing Axes instances, even if it ends up\n",
      "          being 1x1.\n",
      "    \n",
      "    subplot_kw : dict, optional\n",
      "        Dict with keywords passed to the\n",
      "        `~matplotlib.figure.Figure.add_subplot` call used to create each\n",
      "        subplot.\n",
      "    \n",
      "    gridspec_kw : dict, optional\n",
      "        Dict with keywords passed to the `~matplotlib.gridspec.GridSpec`\n",
      "        constructor used to create the grid the subplots are placed on.\n",
      "    \n",
      "    **fig_kw\n",
      "        All additional keyword arguments are passed to the\n",
      "        `.pyplot.figure` call.\n",
      "    \n",
      "    Returns\n",
      "    -------\n",
      "    fig : `~.figure.Figure`\n",
      "    \n",
      "    ax : `.axes.Axes` or array of Axes\n",
      "        *ax* can be either a single `~matplotlib.axes.Axes` object or an\n",
      "        array of Axes objects if more than one subplot was created.  The\n",
      "        dimensions of the resulting array can be controlled with the squeeze\n",
      "        keyword, see above.\n",
      "    \n",
      "        Typical idioms for handling the return value are::\n",
      "    \n",
      "            # using the variable ax for single a Axes\n",
      "            fig, ax = plt.subplots()\n",
      "    \n",
      "            # using the variable axs for multiple Axes\n",
      "            fig, axs = plt.subplots(2, 2)\n",
      "    \n",
      "            # using tuple unpacking for multiple Axes\n",
      "            fig, (ax1, ax2) = plt.subplots(1, 2)\n",
      "            fig, ((ax1, ax2), (ax3, ax4)) = plt.subplots(2, 2)\n",
      "    \n",
      "        The names ``ax`` and pluralized ``axs`` are preferred over ``axes``\n",
      "        because for the latter it's not clear if it refers to a single\n",
      "        `~.axes.Axes` instance or a collection of these.\n",
      "    \n",
      "    See Also\n",
      "    --------\n",
      "    .pyplot.figure\n",
      "    .pyplot.subplot\n",
      "    .pyplot.axes\n",
      "    .Figure.subplots\n",
      "    .Figure.add_subplot\n",
      "    \n",
      "    Examples\n",
      "    --------\n",
      "    ::\n",
      "    \n",
      "        # First create some toy data:\n",
      "        x = np.linspace(0, 2*np.pi, 400)\n",
      "        y = np.sin(x**2)\n",
      "    \n",
      "        # Create just a figure and only one subplot\n",
      "        fig, ax = plt.subplots()\n",
      "        ax.plot(x, y)\n",
      "        ax.set_title('Simple plot')\n",
      "    \n",
      "        # Create two subplots and unpack the output array immediately\n",
      "        f, (ax1, ax2) = plt.subplots(1, 2, sharey=True)\n",
      "        ax1.plot(x, y)\n",
      "        ax1.set_title('Sharing Y axis')\n",
      "        ax2.scatter(x, y)\n",
      "    \n",
      "        # Create four polar axes and access them through the returned array\n",
      "        fig, axs = plt.subplots(2, 2, subplot_kw=dict(projection=\"polar\"))\n",
      "        axs[0, 0].plot(x, y)\n",
      "        axs[1, 1].scatter(x, y)\n",
      "    \n",
      "        # Share a X axis with each column of subplots\n",
      "        plt.subplots(2, 2, sharex='col')\n",
      "    \n",
      "        # Share a Y axis with each row of subplots\n",
      "        plt.subplots(2, 2, sharey='row')\n",
      "    \n",
      "        # Share both X and Y axes with all subplots\n",
      "        plt.subplots(2, 2, sharex='all', sharey='all')\n",
      "    \n",
      "        # Note that this is the same as\n",
      "        plt.subplots(2, 2, sharex=True, sharey=True)\n",
      "    \n",
      "        # Create figure number 10 with a single subplot\n",
      "        # and clears it if it already exists.\n",
      "        fig, ax = plt.subplots(num=10, clear=True)\n",
      "\n"
     ]
    }
   ],
   "source": [
    "help(plt.subplots)"
   ]
  },
  {
   "cell_type": "code",
   "execution_count": 11,
   "metadata": {},
   "outputs": [
    {
     "data": {
      "image/png": "[encoded data removed]",
      "text/plain": [
       "<Figure size 432x288 with 1 Axes>"
      ]
     },
     "metadata": {
      "needs_background": "light"
     },
     "output_type": "display_data"
    }
   ],
   "source": [
    "fig, ax = plt.subplots()"
   ]
  },
  {
   "cell_type": "code",
   "execution_count": 12,
   "metadata": {},
   "outputs": [
    {
     "data": {
      "text/plain": [
       "matplotlib.figure.Figure"
      ]
     },
     "execution_count": 12,
     "metadata": {},
     "output_type": "execute_result"
    }
   ],
   "source": [
    "type(fig)"
   ]
  },
  {
   "cell_type": "code",
   "execution_count": 13,
   "metadata": {},
   "outputs": [
    {
     "data": {
      "text/plain": [
       "matplotlib.axes._subplots.AxesSubplot"
      ]
     },
     "execution_count": 13,
     "metadata": {},
     "output_type": "execute_result"
    }
   ],
   "source": [
    "type(ax)"
   ]
  },
  {
   "cell_type": "code",
   "execution_count": 14,
   "metadata": {},
   "outputs": [
    {
     "data": {
      "image/png": "[encoded data removed]",
      "text/plain": [
       "<Figure size 432x288 with 1 Axes>"
      ]
     },
     "metadata": {
      "needs_background": "light"
     },
     "output_type": "display_data"
    }
   ],
   "source": [
    "fig, ax = plt.subplots()\n",
    "\n",
    "ax.plot(x_arr, y_arr)\n",
    "\n",
    "plt.show()"
   ]
  },
  {
   "cell_type": "code",
   "execution_count": 15,
   "metadata": {},
   "outputs": [
    {
     "data": {
      "image/png": "[encoded data removed]",
      "text/plain": [
       "<Figure size 432x288 with 1 Axes>"
      ]
     },
     "metadata": {
      "needs_background": "light"
     },
     "output_type": "display_data"
    }
   ],
   "source": [
    "fig, ax = plt.subplots()\n",
    "\n",
    "ax.plot(x_arr, y_arr)\n",
    "ax.set_xlabel('Time (s)')\n",
    "ax.set_ylabel('Watermelons eaten')\n",
    "\n",
    "plt.show()"
   ]
  },
  {
   "cell_type": "code",
   "execution_count": 16,
   "metadata": {},
   "outputs": [
    {
     "data": {
      "image/png": "[encoded data removed]",
      "text/plain": [
       "<Figure size 432x288 with 1 Axes>"
      ]
     },
     "metadata": {
      "needs_background": "light"
     },
     "output_type": "display_data"
    }
   ],
   "source": [
    "fig, ax = plt.subplots()\n",
    "\n",
    "ax.plot(x_arr, y_arr)\n",
    "ax.set_xlabel('Time (s)')\n",
    "ax.set_ylabel('Watermelons eaten')\n",
    "ax.set_xlim(0, 9)\n",
    "ax.set_ylim(0, 21)\n",
    "\n",
    "plt.show()"
   ]
  },
  {
   "cell_type": "code",
   "execution_count": 17,
   "metadata": {},
   "outputs": [
    {
     "data": {
      "image/png": "[encoded data removed]",
      "text/plain": [
       "<Figure size 432x288 with 1 Axes>"
      ]
     },
     "metadata": {
      "needs_background": "light"
     },
     "output_type": "display_data"
    }
   ],
   "source": [
    "fig, ax = plt.subplots()\n",
    "\n",
    "ax.plot(x_arr, y_arr)\n",
    "ax.set_xlabel('Time (s)')\n",
    "ax.set_ylabel('Watermelons eaten')\n",
    "ax.set_xlim(min(x_arr), max(x_arr))\n",
    "ax.set_ylim(min(y_arr), max(y_arr))\n",
    "\n",
    "plt.show()"
   ]
  },
  {
   "cell_type": "code",
   "execution_count": 18,
   "metadata": {},
   "outputs": [
    {
     "data": {
      "image/png": "[encoded data removed]",
      "text/plain": [
       "<Figure size 432x288 with 1 Axes>"
      ]
     },
     "metadata": {
      "needs_background": "light"
     },
     "output_type": "display_data"
    }
   ],
   "source": [
    "fig, ax = plt.subplots()\n",
    "\n",
    "ax.plot(x_arr, y_arr)\n",
    "ax.set_xlabel('Time (s)')\n",
    "ax.set_ylabel('Watermelons eaten')\n",
    "ax.set_xlim(min(x_arr), max(x_arr))\n",
    "ax.set_ylim(min(y_arr), max(y_arr))\n",
    "ax.set_title('Watermelon Statistics')\n",
    "\n",
    "plt.show()"
   ]
  },
  {
   "cell_type": "code",
   "execution_count": 19,
   "metadata": {},
   "outputs": [
    {
     "name": "stdout",
     "output_type": "stream",
     "text": [
      "y_arr=array([ 3,  5,  7,  9, 11, 13, 15, 17, 19, 21])\n",
      "y_arr.mean()=12.0\n",
      "melons_sample_2=array([ 3,  5,  7, 13, 11, 13, 15, 11, 19, 21])\n",
      "melons_sample_2.mean()=11.8\n"
     ]
    }
   ],
   "source": [
    "melons_sample_2 = y_arr.copy()\n",
    "\n",
    "melons_sample_2[3] += 4\n",
    "melons_sample_2[7] -= 6\n",
    "\n",
    "print(f'{y_arr=}')\n",
    "print(f'{y_arr.mean()=}')\n",
    "print(f'{melons_sample_2=}')\n",
    "print(f'{melons_sample_2.mean()=}')"
   ]
  },
  {
   "cell_type": "code",
   "execution_count": 20,
   "metadata": {},
   "outputs": [
    {
     "data": {
      "image/png": "[encoded data removed]",
      "text/plain": [
       "<Figure size 432x288 with 1 Axes>"
      ]
     },
     "metadata": {
      "needs_background": "light"
     },
     "output_type": "display_data"
    }
   ],
   "source": [
    "fig, ax = plt.subplots()\n",
    "\n",
    "ax.plot(x_arr, y_arr)\n",
    "ax.set_xlabel('Time (s)')\n",
    "ax.set_ylabel('Watermelons eaten')\n",
    "ax.set_xlim(min(x_arr), max(x_arr))\n",
    "ax.set_ylim(min(y_arr), max(y_arr))\n",
    "\n",
    "ax.scatter(x_arr, melons_sample_2, color='orange')\n",
    "\n",
    "ax.set_title('Watermelon Statistics')\n",
    "\n",
    "plt.show()"
   ]
  },
  {
   "cell_type": "markdown",
   "metadata": {},
   "source": [
    "# Fitting Data using NumPy"
   ]
  },
  {
   "cell_type": "code",
   "execution_count": 21,
   "metadata": {},
   "outputs": [
    {
     "data": {
      "image/png": "[encoded data removed]",
      "text/plain": [
       "<Figure size 432x288 with 1 Axes>"
      ]
     },
     "metadata": {
      "needs_background": "light"
     },
     "output_type": "display_data"
    }
   ],
   "source": [
    "fig, ax = plt.subplots()\n",
    "\n",
    "ax.set_xlabel('Time (s)')\n",
    "ax.set_ylabel('Watermelons eaten')\n",
    "ax.set_xlim(min(x_arr), max(x_arr))\n",
    "ax.set_ylim(min(y_arr), max(y_arr))\n",
    "\n",
    "ax.scatter(x_arr, melons_sample_2, color='orange')\n",
    "\n",
    "ax.set_title('Watermelon Statistics')\n",
    "\n",
    "plt.show()"
   ]
  },
  {
   "cell_type": "code",
   "execution_count": 22,
   "metadata": {},
   "outputs": [],
   "source": [
    "from numpy.polynomial.polynomial import Polynomial"
   ]
  },
  {
   "cell_type": "code",
   "execution_count": 23,
   "metadata": {},
   "outputs": [
    {
     "name": "stdout",
     "output_type": "stream",
     "text": [
      "Help on class Polynomial in module numpy.polynomial.polynomial:\n",
      "\n",
      "class Polynomial(numpy.polynomial._polybase.ABCPolyBase)\n",
      " |  Polynomial(coef, domain=None, window=None)\n",
      " |  \n",
      " |  A power series class.\n",
      " |  \n",
      " |  The Polynomial class provides the standard Python numerical methods\n",
      " |  '+', '-', '*', '//', '%', 'divmod', '**', and '()' as well as the\n",
      " |  attributes and methods listed in the `ABCPolyBase` documentation.\n",
      " |  \n",
      " |  Parameters\n",
      " |  ----------\n",
      " |  coef : array_like\n",
      " |      Polynomial coefficients in order of increasing degree, i.e.,\n",
      " |      ``(1, 2, 3)`` give ``1 + 2*x + 3*x**2``.\n",
      " |  domain : (2,) array_like, optional\n",
      " |      Domain to use. The interval ``[domain[0], domain[1]]`` is mapped\n",
      " |      to the interval ``[window[0], window[1]]`` by shifting and scaling.\n",
      " |      The default value is [-1, 1].\n",
      " |  window : (2,) array_like, optional\n",
      " |      Window, see `domain` for its use. The default value is [-1, 1].\n",
      " |  \n",
      " |      .. versionadded:: 1.6.0\n",
      " |  \n",
      " |  Method resolution order:\n",
      " |      Polynomial\n",
      " |      numpy.polynomial._polybase.ABCPolyBase\n",
      " |      abc.ABC\n",
      " |      builtins.object\n",
      " |  \n",
      " |  Data and other attributes defined here:\n",
      " |  \n",
      " |  __abstractmethods__ = frozenset()\n",
      " |  \n",
      " |  basis_name = None\n",
      " |  \n",
      " |  domain = array([-1,  1])\n",
      " |  \n",
      " |  window = array([-1,  1])\n",
      " |  \n",
      " |  ----------------------------------------------------------------------\n",
      " |  Methods inherited from numpy.polynomial._polybase.ABCPolyBase:\n",
      " |  \n",
      " |  __add__(self, other)\n",
      " |  \n",
      " |  __call__(self, arg)\n",
      " |      Call self as a function.\n",
      " |  \n",
      " |  __divmod__(self, other)\n",
      " |  \n",
      " |  __eq__(self, other)\n",
      " |      Return self==value.\n",
      " |  \n",
      " |  __floordiv__(self, other)\n",
      " |  \n",
      " |  __format__(self, fmt_str)\n",
      " |      Default object formatter.\n",
      " |  \n",
      " |  __getstate__(self)\n",
      " |  \n",
      " |  __init__(self, coef, domain=None, window=None)\n",
      " |      Initialize self.  See help(type(self)) for accurate signature.\n",
      " |  \n",
      " |  __iter__(self)\n",
      " |  \n",
      " |  __len__(self)\n",
      " |  \n",
      " |  __mod__(self, other)\n",
      " |  \n",
      " |  __mul__(self, other)\n",
      " |  \n",
      " |  __ne__(self, other)\n",
      " |      Return self!=value.\n",
      " |  \n",
      " |  __neg__(self)\n",
      " |  \n",
      " |  __pos__(self)\n",
      " |  \n",
      " |  __pow__(self, other)\n",
      " |  \n",
      " |  __radd__(self, other)\n",
      " |  \n",
      " |  __rdiv__(self, other)\n",
      " |  \n",
      " |  __rdivmod__(self, other)\n",
      " |  \n",
      " |  __repr__(self)\n",
      " |      Return repr(self).\n",
      " |  \n",
      " |  __rfloordiv__(self, other)\n",
      " |  \n",
      " |  __rmod__(self, other)\n",
      " |  \n",
      " |  __rmul__(self, other)\n",
      " |  \n",
      " |  __rsub__(self, other)\n",
      " |  \n",
      " |  __rtruediv__(self, other)\n",
      " |  \n",
      " |  __setstate__(self, dict)\n",
      " |  \n",
      " |  __str__(self)\n",
      " |      Return str(self).\n",
      " |  \n",
      " |  __sub__(self, other)\n",
      " |  \n",
      " |  __truediv__(self, other)\n",
      " |  \n",
      " |  convert(self, domain=None, kind=None, window=None)\n",
      " |      Convert series to a different kind and/or domain and/or window.\n",
      " |      \n",
      " |      Parameters\n",
      " |      ----------\n",
      " |      domain : array_like, optional\n",
      " |          The domain of the converted series. If the value is None,\n",
      " |          the default domain of `kind` is used.\n",
      " |      kind : class, optional\n",
      " |          The polynomial series type class to which the current instance\n",
      " |          should be converted. If kind is None, then the class of the\n",
      " |          current instance is used.\n",
      " |      window : array_like, optional\n",
      " |          The window of the converted series. If the value is None,\n",
      " |          the default window of `kind` is used.\n",
      " |      \n",
      " |      Returns\n",
      " |      -------\n",
      " |      new_series : series\n",
      " |          The returned class can be of different type than the current\n",
      " |          instance and/or have a different domain and/or different\n",
      " |          window.\n",
      " |      \n",
      " |      Notes\n",
      " |      -----\n",
      " |      Conversion between domains and class types can result in\n",
      " |      numerically ill defined series.\n",
      " |  \n",
      " |  copy(self)\n",
      " |      Return a copy.\n",
      " |      \n",
      " |      Returns\n",
      " |      -------\n",
      " |      new_series : series\n",
      " |          Copy of self.\n",
      " |  \n",
      " |  cutdeg(self, deg)\n",
      " |      Truncate series to the given degree.\n",
      " |      \n",
      " |      Reduce the degree of the series to `deg` by discarding the\n",
      " |      high order terms. If `deg` is greater than the current degree a\n",
      " |      copy of the current series is returned. This can be useful in least\n",
      " |      squares where the coefficients of the high degree terms may be very\n",
      " |      small.\n",
      " |      \n",
      " |      .. versionadded:: 1.5.0\n",
      " |      \n",
      " |      Parameters\n",
      " |      ----------\n",
      " |      deg : non-negative int\n",
      " |          The series is reduced to degree `deg` by discarding the high\n",
      " |          order terms. The value of `deg` must be a non-negative integer.\n",
      " |      \n",
      " |      Returns\n",
      " |      -------\n",
      " |      new_series : series\n",
      " |          New instance of series with reduced degree.\n",
      " |  \n",
      " |  degree(self)\n",
      " |      The degree of the series.\n",
      " |      \n",
      " |      .. versionadded:: 1.5.0\n",
      " |      \n",
      " |      Returns\n",
      " |      -------\n",
      " |      degree : int\n",
      " |          Degree of the series, one less than the number of coefficients.\n",
      " |  \n",
      " |  deriv(self, m=1)\n",
      " |      Differentiate.\n",
      " |      \n",
      " |      Return a series instance of that is the derivative of the current\n",
      " |      series.\n",
      " |      \n",
      " |      Parameters\n",
      " |      ----------\n",
      " |      m : non-negative int\n",
      " |          Find the derivative of order `m`.\n",
      " |      \n",
      " |      Returns\n",
      " |      -------\n",
      " |      new_series : series\n",
      " |          A new series representing the derivative. The domain is the same\n",
      " |          as the domain of the differentiated series.\n",
      " |  \n",
      " |  has_samecoef(self, other)\n",
      " |      Check if coefficients match.\n",
      " |      \n",
      " |      .. versionadded:: 1.6.0\n",
      " |      \n",
      " |      Parameters\n",
      " |      ----------\n",
      " |      other : class instance\n",
      " |          The other class must have the ``coef`` attribute.\n",
      " |      \n",
      " |      Returns\n",
      " |      -------\n",
      " |      bool : boolean\n",
      " |          True if the coefficients are the same, False otherwise.\n",
      " |  \n",
      " |  has_samedomain(self, other)\n",
      " |      Check if domains match.\n",
      " |      \n",
      " |      .. versionadded:: 1.6.0\n",
      " |      \n",
      " |      Parameters\n",
      " |      ----------\n",
      " |      other : class instance\n",
      " |          The other class must have the ``domain`` attribute.\n",
      " |      \n",
      " |      Returns\n",
      " |      -------\n",
      " |      bool : boolean\n",
      " |          True if the domains are the same, False otherwise.\n",
      " |  \n",
      " |  has_sametype(self, other)\n",
      " |      Check if types match.\n",
      " |      \n",
      " |      .. versionadded:: 1.7.0\n",
      " |      \n",
      " |      Parameters\n",
      " |      ----------\n",
      " |      other : object\n",
      " |          Class instance.\n",
      " |      \n",
      " |      Returns\n",
      " |      -------\n",
      " |      bool : boolean\n",
      " |          True if other is same class as self\n",
      " |  \n",
      " |  has_samewindow(self, other)\n",
      " |      Check if windows match.\n",
      " |      \n",
      " |      .. versionadded:: 1.6.0\n",
      " |      \n",
      " |      Parameters\n",
      " |      ----------\n",
      " |      other : class instance\n",
      " |          The other class must have the ``window`` attribute.\n",
      " |      \n",
      " |      Returns\n",
      " |      -------\n",
      " |      bool : boolean\n",
      " |          True if the windows are the same, False otherwise.\n",
      " |  \n",
      " |  integ(self, m=1, k=[], lbnd=None)\n",
      " |      Integrate.\n",
      " |      \n",
      " |      Return a series instance that is the definite integral of the\n",
      " |      current series.\n",
      " |      \n",
      " |      Parameters\n",
      " |      ----------\n",
      " |      m : non-negative int\n",
      " |          The number of integrations to perform.\n",
      " |      k : array_like\n",
      " |          Integration constants. The first constant is applied to the\n",
      " |          first integration, the second to the second, and so on. The\n",
      " |          list of values must less than or equal to `m` in length and any\n",
      " |          missing values are set to zero.\n",
      " |      lbnd : Scalar\n",
      " |          The lower bound of the definite integral.\n",
      " |      \n",
      " |      Returns\n",
      " |      -------\n",
      " |      new_series : series\n",
      " |          A new series representing the integral. The domain is the same\n",
      " |          as the domain of the integrated series.\n",
      " |  \n",
      " |  linspace(self, n=100, domain=None)\n",
      " |      Return x, y values at equally spaced points in domain.\n",
      " |      \n",
      " |      Returns the x, y values at `n` linearly spaced points across the\n",
      " |      domain.  Here y is the value of the polynomial at the points x. By\n",
      " |      default the domain is the same as that of the series instance.\n",
      " |      This method is intended mostly as a plotting aid.\n",
      " |      \n",
      " |      .. versionadded:: 1.5.0\n",
      " |      \n",
      " |      Parameters\n",
      " |      ----------\n",
      " |      n : int, optional\n",
      " |          Number of point pairs to return. The default value is 100.\n",
      " |      domain : {None, array_like}, optional\n",
      " |          If not None, the specified domain is used instead of that of\n",
      " |          the calling instance. It should be of the form ``[beg,end]``.\n",
      " |          The default is None which case the class domain is used.\n",
      " |      \n",
      " |      Returns\n",
      " |      -------\n",
      " |      x, y : ndarray\n",
      " |          x is equal to linspace(self.domain[0], self.domain[1], n) and\n",
      " |          y is the series evaluated at element of x.\n",
      " |  \n",
      " |  mapparms(self)\n",
      " |      Return the mapping parameters.\n",
      " |      \n",
      " |      The returned values define a linear map ``off + scl*x`` that is\n",
      " |      applied to the input arguments before the series is evaluated. The\n",
      " |      map depends on the ``domain`` and ``window``; if the current\n",
      " |      ``domain`` is equal to the ``window`` the resulting map is the\n",
      " |      identity.  If the coefficients of the series instance are to be\n",
      " |      used by themselves outside this class, then the linear function\n",
      " |      must be substituted for the ``x`` in the standard representation of\n",
      " |      the base polynomials.\n",
      " |      \n",
      " |      Returns\n",
      " |      -------\n",
      " |      off, scl : float or complex\n",
      " |          The mapping function is defined by ``off + scl*x``.\n",
      " |      \n",
      " |      Notes\n",
      " |      -----\n",
      " |      If the current domain is the interval ``[l1, r1]`` and the window\n",
      " |      is ``[l2, r2]``, then the linear mapping function ``L`` is\n",
      " |      defined by the equations::\n",
      " |      \n",
      " |          L(l1) = l2\n",
      " |          L(r1) = r2\n",
      " |  \n",
      " |  roots(self)\n",
      " |      Return the roots of the series polynomial.\n",
      " |      \n",
      " |      Compute the roots for the series. Note that the accuracy of the\n",
      " |      roots decrease the further outside the domain they lie.\n",
      " |      \n",
      " |      Returns\n",
      " |      -------\n",
      " |      roots : ndarray\n",
      " |          Array containing the roots of the series.\n",
      " |  \n",
      " |  trim(self, tol=0)\n",
      " |      Remove trailing coefficients\n",
      " |      \n",
      " |      Remove trailing coefficients until a coefficient is reached whose\n",
      " |      absolute value greater than `tol` or the beginning of the series is\n",
      " |      reached. If all the coefficients would be removed the series is set\n",
      " |      to ``[0]``. A new series instance is returned with the new\n",
      " |      coefficients.  The current instance remains unchanged.\n",
      " |      \n",
      " |      Parameters\n",
      " |      ----------\n",
      " |      tol : non-negative number.\n",
      " |          All trailing coefficients less than `tol` will be removed.\n",
      " |      \n",
      " |      Returns\n",
      " |      -------\n",
      " |      new_series : series\n",
      " |          New instance of series with trimmed coefficients.\n",
      " |  \n",
      " |  truncate(self, size)\n",
      " |      Truncate series to length `size`.\n",
      " |      \n",
      " |      Reduce the series to length `size` by discarding the high\n",
      " |      degree terms. The value of `size` must be a positive integer. This\n",
      " |      can be useful in least squares where the coefficients of the\n",
      " |      high degree terms may be very small.\n",
      " |      \n",
      " |      Parameters\n",
      " |      ----------\n",
      " |      size : positive int\n",
      " |          The series is reduced to length `size` by discarding the high\n",
      " |          degree terms. The value of `size` must be a positive integer.\n",
      " |      \n",
      " |      Returns\n",
      " |      -------\n",
      " |      new_series : series\n",
      " |          New instance of series with truncated coefficients.\n",
      " |  \n",
      " |  ----------------------------------------------------------------------\n",
      " |  Class methods inherited from numpy.polynomial._polybase.ABCPolyBase:\n",
      " |  \n",
      " |  basis(deg, domain=None, window=None) from abc.ABCMeta\n",
      " |      Series basis polynomial of degree `deg`.\n",
      " |      \n",
      " |      Returns the series representing the basis polynomial of degree `deg`.\n",
      " |      \n",
      " |      .. versionadded:: 1.7.0\n",
      " |      \n",
      " |      Parameters\n",
      " |      ----------\n",
      " |      deg : int\n",
      " |          Degree of the basis polynomial for the series. Must be >= 0.\n",
      " |      domain : {None, array_like}, optional\n",
      " |          If given, the array must be of the form ``[beg, end]``, where\n",
      " |          ``beg`` and ``end`` are the endpoints of the domain. If None is\n",
      " |          given then the class domain is used. The default is None.\n",
      " |      window : {None, array_like}, optional\n",
      " |          If given, the resulting array must be if the form\n",
      " |          ``[beg, end]``, where ``beg`` and ``end`` are the endpoints of\n",
      " |          the window. If None is given then the class window is used. The\n",
      " |          default is None.\n",
      " |      \n",
      " |      Returns\n",
      " |      -------\n",
      " |      new_series : series\n",
      " |          A series with the coefficient of the `deg` term set to one and\n",
      " |          all others zero.\n",
      " |  \n",
      " |  cast(series, domain=None, window=None) from abc.ABCMeta\n",
      " |      Convert series to series of this class.\n",
      " |      \n",
      " |      The `series` is expected to be an instance of some polynomial\n",
      " |      series of one of the types supported by by the numpy.polynomial\n",
      " |      module, but could be some other class that supports the convert\n",
      " |      method.\n",
      " |      \n",
      " |      .. versionadded:: 1.7.0\n",
      " |      \n",
      " |      Parameters\n",
      " |      ----------\n",
      " |      series : series\n",
      " |          The series instance to be converted.\n",
      " |      domain : {None, array_like}, optional\n",
      " |          If given, the array must be of the form ``[beg, end]``, where\n",
      " |          ``beg`` and ``end`` are the endpoints of the domain. If None is\n",
      " |          given then the class domain is used. The default is None.\n",
      " |      window : {None, array_like}, optional\n",
      " |          If given, the resulting array must be if the form\n",
      " |          ``[beg, end]``, where ``beg`` and ``end`` are the endpoints of\n",
      " |          the window. If None is given then the class window is used. The\n",
      " |          default is None.\n",
      " |      \n",
      " |      Returns\n",
      " |      -------\n",
      " |      new_series : series\n",
      " |          A series of the same kind as the calling class and equal to\n",
      " |          `series` when evaluated.\n",
      " |      \n",
      " |      See Also\n",
      " |      --------\n",
      " |      convert : similar instance method\n",
      " |  \n",
      " |  fit(x, y, deg, domain=None, rcond=None, full=False, w=None, window=None) from abc.ABCMeta\n",
      " |      Least squares fit to data.\n",
      " |      \n",
      " |      Return a series instance that is the least squares fit to the data\n",
      " |      `y` sampled at `x`. The domain of the returned instance can be\n",
      " |      specified and this will often result in a superior fit with less\n",
      " |      chance of ill conditioning.\n",
      " |      \n",
      " |      Parameters\n",
      " |      ----------\n",
      " |      x : array_like, shape (M,)\n",
      " |          x-coordinates of the M sample points ``(x[i], y[i])``.\n",
      " |      y : array_like, shape (M,)\n",
      " |          y-coordinates of the M sample points ``(x[i], y[i])``.\n",
      " |      deg : int or 1-D array_like\n",
      " |          Degree(s) of the fitting polynomials. If `deg` is a single integer\n",
      " |          all terms up to and including the `deg`'th term are included in the\n",
      " |          fit. For NumPy versions >= 1.11.0 a list of integers specifying the\n",
      " |          degrees of the terms to include may be used instead.\n",
      " |      domain : {None, [beg, end], []}, optional\n",
      " |          Domain to use for the returned series. If ``None``,\n",
      " |          then a minimal domain that covers the points `x` is chosen.  If\n",
      " |          ``[]`` the class domain is used. The default value was the\n",
      " |          class domain in NumPy 1.4 and ``None`` in later versions.\n",
      " |          The ``[]`` option was added in numpy 1.5.0.\n",
      " |      rcond : float, optional\n",
      " |          Relative condition number of the fit. Singular values smaller\n",
      " |          than this relative to the largest singular value will be\n",
      " |          ignored. The default value is len(x)*eps, where eps is the\n",
      " |          relative precision of the float type, about 2e-16 in most\n",
      " |          cases.\n",
      " |      full : bool, optional\n",
      " |          Switch determining nature of return value. When it is False\n",
      " |          (the default) just the coefficients are returned, when True\n",
      " |          diagnostic information from the singular value decomposition is\n",
      " |          also returned.\n",
      " |      w : array_like, shape (M,), optional\n",
      " |          Weights. If not None the contribution of each point\n",
      " |          ``(x[i],y[i])`` to the fit is weighted by ``w[i]``. Ideally the\n",
      " |          weights are chosen so that the errors of the products\n",
      " |          ``w[i]*y[i]`` all have the same variance.  The default value is\n",
      " |          None.\n",
      " |      \n",
      " |          .. versionadded:: 1.5.0\n",
      " |      window : {[beg, end]}, optional\n",
      " |          Window to use for the returned series. The default\n",
      " |          value is the default class domain\n",
      " |      \n",
      " |          .. versionadded:: 1.6.0\n",
      " |      \n",
      " |      Returns\n",
      " |      -------\n",
      " |      new_series : series\n",
      " |          A series that represents the least squares fit to the data and\n",
      " |          has the domain and window specified in the call. If the\n",
      " |          coefficients for the unscaled and unshifted basis polynomials are\n",
      " |          of interest, do ``new_series.convert().coef``.\n",
      " |      \n",
      " |      [resid, rank, sv, rcond] : list\n",
      " |          These values are only returned if `full` = True\n",
      " |      \n",
      " |          resid -- sum of squared residuals of the least squares fit\n",
      " |          rank -- the numerical rank of the scaled Vandermonde matrix\n",
      " |          sv -- singular values of the scaled Vandermonde matrix\n",
      " |          rcond -- value of `rcond`.\n",
      " |      \n",
      " |          For more details, see `linalg.lstsq`.\n",
      " |  \n",
      " |  fromroots(roots, domain=[], window=None) from abc.ABCMeta\n",
      " |      Return series instance that has the specified roots.\n",
      " |      \n",
      " |      Returns a series representing the product\n",
      " |      ``(x - r[0])*(x - r[1])*...*(x - r[n-1])``, where ``r`` is a\n",
      " |      list of roots.\n",
      " |      \n",
      " |      Parameters\n",
      " |      ----------\n",
      " |      roots : array_like\n",
      " |          List of roots.\n",
      " |      domain : {[], None, array_like}, optional\n",
      " |          Domain for the resulting series. If None the domain is the\n",
      " |          interval from the smallest root to the largest. If [] the\n",
      " |          domain is the class domain. The default is [].\n",
      " |      window : {None, array_like}, optional\n",
      " |          Window for the returned series. If None the class window is\n",
      " |          used. The default is None.\n",
      " |      \n",
      " |      Returns\n",
      " |      -------\n",
      " |      new_series : series\n",
      " |          Series with the specified roots.\n",
      " |  \n",
      " |  identity(domain=None, window=None) from abc.ABCMeta\n",
      " |      Identity function.\n",
      " |      \n",
      " |      If ``p`` is the returned series, then ``p(x) == x`` for all\n",
      " |      values of x.\n",
      " |      \n",
      " |      Parameters\n",
      " |      ----------\n",
      " |      domain : {None, array_like}, optional\n",
      " |          If given, the array must be of the form ``[beg, end]``, where\n",
      " |          ``beg`` and ``end`` are the endpoints of the domain. If None is\n",
      " |          given then the class domain is used. The default is None.\n",
      " |      window : {None, array_like}, optional\n",
      " |          If given, the resulting array must be if the form\n",
      " |          ``[beg, end]``, where ``beg`` and ``end`` are the endpoints of\n",
      " |          the window. If None is given then the class window is used. The\n",
      " |          default is None.\n",
      " |      \n",
      " |      Returns\n",
      " |      -------\n",
      " |      new_series : series\n",
      " |           Series of representing the identity.\n",
      " |  \n",
      " |  ----------------------------------------------------------------------\n",
      " |  Data descriptors inherited from numpy.polynomial._polybase.ABCPolyBase:\n",
      " |  \n",
      " |  __dict__\n",
      " |      dictionary for instance variables (if defined)\n",
      " |  \n",
      " |  __weakref__\n",
      " |      list of weak references to the object (if defined)\n",
      " |  \n",
      " |  ----------------------------------------------------------------------\n",
      " |  Data and other attributes inherited from numpy.polynomial._polybase.ABCPolyBase:\n",
      " |  \n",
      " |  __array_ufunc__ = None\n",
      " |  \n",
      " |  __hash__ = None\n",
      " |  \n",
      " |  maxpower = 100\n",
      "\n"
     ]
    }
   ],
   "source": [
    "help(Polynomial)"
   ]
  },
  {
   "cell_type": "code",
   "execution_count": 24,
   "metadata": {},
   "outputs": [],
   "source": [
    "from numpy.polynomial import Polynomial as Poly"
   ]
  },
  {
   "cell_type": "code",
   "execution_count": 25,
   "metadata": {},
   "outputs": [
    {
     "name": "stdout",
     "output_type": "stream",
     "text": [
      "Help on class Polynomial in module numpy.polynomial.polynomial:\n",
      "\n",
      "class Polynomial(numpy.polynomial._polybase.ABCPolyBase)\n",
      " |  Polynomial(coef, domain=None, window=None)\n",
      " |  \n",
      " |  A power series class.\n",
      " |  \n",
      " |  The Polynomial class provides the standard Python numerical methods\n",
      " |  '+', '-', '*', '//', '%', 'divmod', '**', and '()' as well as the\n",
      " |  attributes and methods listed in the `ABCPolyBase` documentation.\n",
      " |  \n",
      " |  Parameters\n",
      " |  ----------\n",
      " |  coef : array_like\n",
      " |      Polynomial coefficients in order of increasing degree, i.e.,\n",
      " |      ``(1, 2, 3)`` give ``1 + 2*x + 3*x**2``.\n",
      " |  domain : (2,) array_like, optional\n",
      " |      Domain to use. The interval ``[domain[0], domain[1]]`` is mapped\n",
      " |      to the interval ``[window[0], window[1]]`` by shifting and scaling.\n",
      " |      The default value is [-1, 1].\n",
      " |  window : (2,) array_like, optional\n",
      " |      Window, see `domain` for its use. The default value is [-1, 1].\n",
      " |  \n",
      " |      .. versionadded:: 1.6.0\n",
      " |  \n",
      " |  Method resolution order:\n",
      " |      Polynomial\n",
      " |      numpy.polynomial._polybase.ABCPolyBase\n",
      " |      abc.ABC\n",
      " |      builtins.object\n",
      " |  \n",
      " |  Data and other attributes defined here:\n",
      " |  \n",
      " |  __abstractmethods__ = frozenset()\n",
      " |  \n",
      " |  basis_name = None\n",
      " |  \n",
      " |  domain = array([-1,  1])\n",
      " |  \n",
      " |  window = array([-1,  1])\n",
      " |  \n",
      " |  ----------------------------------------------------------------------\n",
      " |  Methods inherited from numpy.polynomial._polybase.ABCPolyBase:\n",
      " |  \n",
      " |  __add__(self, other)\n",
      " |  \n",
      " |  __call__(self, arg)\n",
      " |      Call self as a function.\n",
      " |  \n",
      " |  __divmod__(self, other)\n",
      " |  \n",
      " |  __eq__(self, other)\n",
      " |      Return self==value.\n",
      " |  \n",
      " |  __floordiv__(self, other)\n",
      " |  \n",
      " |  __format__(self, fmt_str)\n",
      " |      Default object formatter.\n",
      " |  \n",
      " |  __getstate__(self)\n",
      " |  \n",
      " |  __init__(self, coef, domain=None, window=None)\n",
      " |      Initialize self.  See help(type(self)) for accurate signature.\n",
      " |  \n",
      " |  __iter__(self)\n",
      " |  \n",
      " |  __len__(self)\n",
      " |  \n",
      " |  __mod__(self, other)\n",
      " |  \n",
      " |  __mul__(self, other)\n",
      " |  \n",
      " |  __ne__(self, other)\n",
      " |      Return self!=value.\n",
      " |  \n",
      " |  __neg__(self)\n",
      " |  \n",
      " |  __pos__(self)\n",
      " |  \n",
      " |  __pow__(self, other)\n",
      " |  \n",
      " |  __radd__(self, other)\n",
      " |  \n",
      " |  __rdiv__(self, other)\n",
      " |  \n",
      " |  __rdivmod__(self, other)\n",
      " |  \n",
      " |  __repr__(self)\n",
      " |      Return repr(self).\n",
      " |  \n",
      " |  __rfloordiv__(self, other)\n",
      " |  \n",
      " |  __rmod__(self, other)\n",
      " |  \n",
      " |  __rmul__(self, other)\n",
      " |  \n",
      " |  __rsub__(self, other)\n",
      " |  \n",
      " |  __rtruediv__(self, other)\n",
      " |  \n",
      " |  __setstate__(self, dict)\n",
      " |  \n",
      " |  __str__(self)\n",
      " |      Return str(self).\n",
      " |  \n",
      " |  __sub__(self, other)\n",
      " |  \n",
      " |  __truediv__(self, other)\n",
      " |  \n",
      " |  convert(self, domain=None, kind=None, window=None)\n",
      " |      Convert series to a different kind and/or domain and/or window.\n",
      " |      \n",
      " |      Parameters\n",
      " |      ----------\n",
      " |      domain : array_like, optional\n",
      " |          The domain of the converted series. If the value is None,\n",
      " |          the default domain of `kind` is used.\n",
      " |      kind : class, optional\n",
      " |          The polynomial series type class to which the current instance\n",
      " |          should be converted. If kind is None, then the class of the\n",
      " |          current instance is used.\n",
      " |      window : array_like, optional\n",
      " |          The window of the converted series. If the value is None,\n",
      " |          the default window of `kind` is used.\n",
      " |      \n",
      " |      Returns\n",
      " |      -------\n",
      " |      new_series : series\n",
      " |          The returned class can be of different type than the current\n",
      " |          instance and/or have a different domain and/or different\n",
      " |          window.\n",
      " |      \n",
      " |      Notes\n",
      " |      -----\n",
      " |      Conversion between domains and class types can result in\n",
      " |      numerically ill defined series.\n",
      " |  \n",
      " |  copy(self)\n",
      " |      Return a copy.\n",
      " |      \n",
      " |      Returns\n",
      " |      -------\n",
      " |      new_series : series\n",
      " |          Copy of self.\n",
      " |  \n",
      " |  cutdeg(self, deg)\n",
      " |      Truncate series to the given degree.\n",
      " |      \n",
      " |      Reduce the degree of the series to `deg` by discarding the\n",
      " |      high order terms. If `deg` is greater than the current degree a\n",
      " |      copy of the current series is returned. This can be useful in least\n",
      " |      squares where the coefficients of the high degree terms may be very\n",
      " |      small.\n",
      " |      \n",
      " |      .. versionadded:: 1.5.0\n",
      " |      \n",
      " |      Parameters\n",
      " |      ----------\n",
      " |      deg : non-negative int\n",
      " |          The series is reduced to degree `deg` by discarding the high\n",
      " |          order terms. The value of `deg` must be a non-negative integer.\n",
      " |      \n",
      " |      Returns\n",
      " |      -------\n",
      " |      new_series : series\n",
      " |          New instance of series with reduced degree.\n",
      " |  \n",
      " |  degree(self)\n",
      " |      The degree of the series.\n",
      " |      \n",
      " |      .. versionadded:: 1.5.0\n",
      " |      \n",
      " |      Returns\n",
      " |      -------\n",
      " |      degree : int\n",
      " |          Degree of the series, one less than the number of coefficients.\n",
      " |  \n",
      " |  deriv(self, m=1)\n",
      " |      Differentiate.\n",
      " |      \n",
      " |      Return a series instance of that is the derivative of the current\n",
      " |      series.\n",
      " |      \n",
      " |      Parameters\n",
      " |      ----------\n",
      " |      m : non-negative int\n",
      " |          Find the derivative of order `m`.\n",
      " |      \n",
      " |      Returns\n",
      " |      -------\n",
      " |      new_series : series\n",
      " |          A new series representing the derivative. The domain is the same\n",
      " |          as the domain of the differentiated series.\n",
      " |  \n",
      " |  has_samecoef(self, other)\n",
      " |      Check if coefficients match.\n",
      " |      \n",
      " |      .. versionadded:: 1.6.0\n",
      " |      \n",
      " |      Parameters\n",
      " |      ----------\n",
      " |      other : class instance\n",
      " |          The other class must have the ``coef`` attribute.\n",
      " |      \n",
      " |      Returns\n",
      " |      -------\n",
      " |      bool : boolean\n",
      " |          True if the coefficients are the same, False otherwise.\n",
      " |  \n",
      " |  has_samedomain(self, other)\n",
      " |      Check if domains match.\n",
      " |      \n",
      " |      .. versionadded:: 1.6.0\n",
      " |      \n",
      " |      Parameters\n",
      " |      ----------\n",
      " |      other : class instance\n",
      " |          The other class must have the ``domain`` attribute.\n",
      " |      \n",
      " |      Returns\n",
      " |      -------\n",
      " |      bool : boolean\n",
      " |          True if the domains are the same, False otherwise.\n",
      " |  \n",
      " |  has_sametype(self, other)\n",
      " |      Check if types match.\n",
      " |      \n",
      " |      .. versionadded:: 1.7.0\n",
      " |      \n",
      " |      Parameters\n",
      " |      ----------\n",
      " |      other : object\n",
      " |          Class instance.\n",
      " |      \n",
      " |      Returns\n",
      " |      -------\n",
      " |      bool : boolean\n",
      " |          True if other is same class as self\n",
      " |  \n",
      " |  has_samewindow(self, other)\n",
      " |      Check if windows match.\n",
      " |      \n",
      " |      .. versionadded:: 1.6.0\n",
      " |      \n",
      " |      Parameters\n",
      " |      ----------\n",
      " |      other : class instance\n",
      " |          The other class must have the ``window`` attribute.\n",
      " |      \n",
      " |      Returns\n",
      " |      -------\n",
      " |      bool : boolean\n",
      " |          True if the windows are the same, False otherwise.\n",
      " |  \n",
      " |  integ(self, m=1, k=[], lbnd=None)\n",
      " |      Integrate.\n",
      " |      \n",
      " |      Return a series instance that is the definite integral of the\n",
      " |      current series.\n",
      " |      \n",
      " |      Parameters\n",
      " |      ----------\n",
      " |      m : non-negative int\n",
      " |          The number of integrations to perform.\n",
      " |      k : array_like\n",
      " |          Integration constants. The first constant is applied to the\n",
      " |          first integration, the second to the second, and so on. The\n",
      " |          list of values must less than or equal to `m` in length and any\n",
      " |          missing values are set to zero.\n",
      " |      lbnd : Scalar\n",
      " |          The lower bound of the definite integral.\n",
      " |      \n",
      " |      Returns\n",
      " |      -------\n",
      " |      new_series : series\n",
      " |          A new series representing the integral. The domain is the same\n",
      " |          as the domain of the integrated series.\n",
      " |  \n",
      " |  linspace(self, n=100, domain=None)\n",
      " |      Return x, y values at equally spaced points in domain.\n",
      " |      \n",
      " |      Returns the x, y values at `n` linearly spaced points across the\n",
      " |      domain.  Here y is the value of the polynomial at the points x. By\n",
      " |      default the domain is the same as that of the series instance.\n",
      " |      This method is intended mostly as a plotting aid.\n",
      " |      \n",
      " |      .. versionadded:: 1.5.0\n",
      " |      \n",
      " |      Parameters\n",
      " |      ----------\n",
      " |      n : int, optional\n",
      " |          Number of point pairs to return. The default value is 100.\n",
      " |      domain : {None, array_like}, optional\n",
      " |          If not None, the specified domain is used instead of that of\n",
      " |          the calling instance. It should be of the form ``[beg,end]``.\n",
      " |          The default is None which case the class domain is used.\n",
      " |      \n",
      " |      Returns\n",
      " |      -------\n",
      " |      x, y : ndarray\n",
      " |          x is equal to linspace(self.domain[0], self.domain[1], n) and\n",
      " |          y is the series evaluated at element of x.\n",
      " |  \n",
      " |  mapparms(self)\n",
      " |      Return the mapping parameters.\n",
      " |      \n",
      " |      The returned values define a linear map ``off + scl*x`` that is\n",
      " |      applied to the input arguments before the series is evaluated. The\n",
      " |      map depends on the ``domain`` and ``window``; if the current\n",
      " |      ``domain`` is equal to the ``window`` the resulting map is the\n",
      " |      identity.  If the coefficients of the series instance are to be\n",
      " |      used by themselves outside this class, then the linear function\n",
      " |      must be substituted for the ``x`` in the standard representation of\n",
      " |      the base polynomials.\n",
      " |      \n",
      " |      Returns\n",
      " |      -------\n",
      " |      off, scl : float or complex\n",
      " |          The mapping function is defined by ``off + scl*x``.\n",
      " |      \n",
      " |      Notes\n",
      " |      -----\n",
      " |      If the current domain is the interval ``[l1, r1]`` and the window\n",
      " |      is ``[l2, r2]``, then the linear mapping function ``L`` is\n",
      " |      defined by the equations::\n",
      " |      \n",
      " |          L(l1) = l2\n",
      " |          L(r1) = r2\n",
      " |  \n",
      " |  roots(self)\n",
      " |      Return the roots of the series polynomial.\n",
      " |      \n",
      " |      Compute the roots for the series. Note that the accuracy of the\n",
      " |      roots decrease the further outside the domain they lie.\n",
      " |      \n",
      " |      Returns\n",
      " |      -------\n",
      " |      roots : ndarray\n",
      " |          Array containing the roots of the series.\n",
      " |  \n",
      " |  trim(self, tol=0)\n",
      " |      Remove trailing coefficients\n",
      " |      \n",
      " |      Remove trailing coefficients until a coefficient is reached whose\n",
      " |      absolute value greater than `tol` or the beginning of the series is\n",
      " |      reached. If all the coefficients would be removed the series is set\n",
      " |      to ``[0]``. A new series instance is returned with the new\n",
      " |      coefficients.  The current instance remains unchanged.\n",
      " |      \n",
      " |      Parameters\n",
      " |      ----------\n",
      " |      tol : non-negative number.\n",
      " |          All trailing coefficients less than `tol` will be removed.\n",
      " |      \n",
      " |      Returns\n",
      " |      -------\n",
      " |      new_series : series\n",
      " |          New instance of series with trimmed coefficients.\n",
      " |  \n",
      " |  truncate(self, size)\n",
      " |      Truncate series to length `size`.\n",
      " |      \n",
      " |      Reduce the series to length `size` by discarding the high\n",
      " |      degree terms. The value of `size` must be a positive integer. This\n",
      " |      can be useful in least squares where the coefficients of the\n",
      " |      high degree terms may be very small.\n",
      " |      \n",
      " |      Parameters\n",
      " |      ----------\n",
      " |      size : positive int\n",
      " |          The series is reduced to length `size` by discarding the high\n",
      " |          degree terms. The value of `size` must be a positive integer.\n",
      " |      \n",
      " |      Returns\n",
      " |      -------\n",
      " |      new_series : series\n",
      " |          New instance of series with truncated coefficients.\n",
      " |  \n",
      " |  ----------------------------------------------------------------------\n",
      " |  Class methods inherited from numpy.polynomial._polybase.ABCPolyBase:\n",
      " |  \n",
      " |  basis(deg, domain=None, window=None) from abc.ABCMeta\n",
      " |      Series basis polynomial of degree `deg`.\n",
      " |      \n",
      " |      Returns the series representing the basis polynomial of degree `deg`.\n",
      " |      \n",
      " |      .. versionadded:: 1.7.0\n",
      " |      \n",
      " |      Parameters\n",
      " |      ----------\n",
      " |      deg : int\n",
      " |          Degree of the basis polynomial for the series. Must be >= 0.\n",
      " |      domain : {None, array_like}, optional\n",
      " |          If given, the array must be of the form ``[beg, end]``, where\n",
      " |          ``beg`` and ``end`` are the endpoints of the domain. If None is\n",
      " |          given then the class domain is used. The default is None.\n",
      " |      window : {None, array_like}, optional\n",
      " |          If given, the resulting array must be if the form\n",
      " |          ``[beg, end]``, where ``beg`` and ``end`` are the endpoints of\n",
      " |          the window. If None is given then the class window is used. The\n",
      " |          default is None.\n",
      " |      \n",
      " |      Returns\n",
      " |      -------\n",
      " |      new_series : series\n",
      " |          A series with the coefficient of the `deg` term set to one and\n",
      " |          all others zero.\n",
      " |  \n",
      " |  cast(series, domain=None, window=None) from abc.ABCMeta\n",
      " |      Convert series to series of this class.\n",
      " |      \n",
      " |      The `series` is expected to be an instance of some polynomial\n",
      " |      series of one of the types supported by by the numpy.polynomial\n",
      " |      module, but could be some other class that supports the convert\n",
      " |      method.\n",
      " |      \n",
      " |      .. versionadded:: 1.7.0\n",
      " |      \n",
      " |      Parameters\n",
      " |      ----------\n",
      " |      series : series\n",
      " |          The series instance to be converted.\n",
      " |      domain : {None, array_like}, optional\n",
      " |          If given, the array must be of the form ``[beg, end]``, where\n",
      " |          ``beg`` and ``end`` are the endpoints of the domain. If None is\n",
      " |          given then the class domain is used. The default is None.\n",
      " |      window : {None, array_like}, optional\n",
      " |          If given, the resulting array must be if the form\n",
      " |          ``[beg, end]``, where ``beg`` and ``end`` are the endpoints of\n",
      " |          the window. If None is given then the class window is used. The\n",
      " |          default is None.\n",
      " |      \n",
      " |      Returns\n",
      " |      -------\n",
      " |      new_series : series\n",
      " |          A series of the same kind as the calling class and equal to\n",
      " |          `series` when evaluated.\n",
      " |      \n",
      " |      See Also\n",
      " |      --------\n",
      " |      convert : similar instance method\n",
      " |  \n",
      " |  fit(x, y, deg, domain=None, rcond=None, full=False, w=None, window=None) from abc.ABCMeta\n",
      " |      Least squares fit to data.\n",
      " |      \n",
      " |      Return a series instance that is the least squares fit to the data\n",
      " |      `y` sampled at `x`. The domain of the returned instance can be\n",
      " |      specified and this will often result in a superior fit with less\n",
      " |      chance of ill conditioning.\n",
      " |      \n",
      " |      Parameters\n",
      " |      ----------\n",
      " |      x : array_like, shape (M,)\n",
      " |          x-coordinates of the M sample points ``(x[i], y[i])``.\n",
      " |      y : array_like, shape (M,)\n",
      " |          y-coordinates of the M sample points ``(x[i], y[i])``.\n",
      " |      deg : int or 1-D array_like\n",
      " |          Degree(s) of the fitting polynomials. If `deg` is a single integer\n",
      " |          all terms up to and including the `deg`'th term are included in the\n",
      " |          fit. For NumPy versions >= 1.11.0 a list of integers specifying the\n",
      " |          degrees of the terms to include may be used instead.\n",
      " |      domain : {None, [beg, end], []}, optional\n",
      " |          Domain to use for the returned series. If ``None``,\n",
      " |          then a minimal domain that covers the points `x` is chosen.  If\n",
      " |          ``[]`` the class domain is used. The default value was the\n",
      " |          class domain in NumPy 1.4 and ``None`` in later versions.\n",
      " |          The ``[]`` option was added in numpy 1.5.0.\n",
      " |      rcond : float, optional\n",
      " |          Relative condition number of the fit. Singular values smaller\n",
      " |          than this relative to the largest singular value will be\n",
      " |          ignored. The default value is len(x)*eps, where eps is the\n",
      " |          relative precision of the float type, about 2e-16 in most\n",
      " |          cases.\n",
      " |      full : bool, optional\n",
      " |          Switch determining nature of return value. When it is False\n",
      " |          (the default) just the coefficients are returned, when True\n",
      " |          diagnostic information from the singular value decomposition is\n",
      " |          also returned.\n",
      " |      w : array_like, shape (M,), optional\n",
      " |          Weights. If not None the contribution of each point\n",
      " |          ``(x[i],y[i])`` to the fit is weighted by ``w[i]``. Ideally the\n",
      " |          weights are chosen so that the errors of the products\n",
      " |          ``w[i]*y[i]`` all have the same variance.  The default value is\n",
      " |          None.\n",
      " |      \n",
      " |          .. versionadded:: 1.5.0\n",
      " |      window : {[beg, end]}, optional\n",
      " |          Window to use for the returned series. The default\n",
      " |          value is the default class domain\n",
      " |      \n",
      " |          .. versionadded:: 1.6.0\n",
      " |      \n",
      " |      Returns\n",
      " |      -------\n",
      " |      new_series : series\n",
      " |          A series that represents the least squares fit to the data and\n",
      " |          has the domain and window specified in the call. If the\n",
      " |          coefficients for the unscaled and unshifted basis polynomials are\n",
      " |          of interest, do ``new_series.convert().coef``.\n",
      " |      \n",
      " |      [resid, rank, sv, rcond] : list\n",
      " |          These values are only returned if `full` = True\n",
      " |      \n",
      " |          resid -- sum of squared residuals of the least squares fit\n",
      " |          rank -- the numerical rank of the scaled Vandermonde matrix\n",
      " |          sv -- singular values of the scaled Vandermonde matrix\n",
      " |          rcond -- value of `rcond`.\n",
      " |      \n",
      " |          For more details, see `linalg.lstsq`.\n",
      " |  \n",
      " |  fromroots(roots, domain=[], window=None) from abc.ABCMeta\n",
      " |      Return series instance that has the specified roots.\n",
      " |      \n",
      " |      Returns a series representing the product\n",
      " |      ``(x - r[0])*(x - r[1])*...*(x - r[n-1])``, where ``r`` is a\n",
      " |      list of roots.\n",
      " |      \n",
      " |      Parameters\n",
      " |      ----------\n",
      " |      roots : array_like\n",
      " |          List of roots.\n",
      " |      domain : {[], None, array_like}, optional\n",
      " |          Domain for the resulting series. If None the domain is the\n",
      " |          interval from the smallest root to the largest. If [] the\n",
      " |          domain is the class domain. The default is [].\n",
      " |      window : {None, array_like}, optional\n",
      " |          Window for the returned series. If None the class window is\n",
      " |          used. The default is None.\n",
      " |      \n",
      " |      Returns\n",
      " |      -------\n",
      " |      new_series : series\n",
      " |          Series with the specified roots.\n",
      " |  \n",
      " |  identity(domain=None, window=None) from abc.ABCMeta\n",
      " |      Identity function.\n",
      " |      \n",
      " |      If ``p`` is the returned series, then ``p(x) == x`` for all\n",
      " |      values of x.\n",
      " |      \n",
      " |      Parameters\n",
      " |      ----------\n",
      " |      domain : {None, array_like}, optional\n",
      " |          If given, the array must be of the form ``[beg, end]``, where\n",
      " |          ``beg`` and ``end`` are the endpoints of the domain. If None is\n",
      " |          given then the class domain is used. The default is None.\n",
      " |      window : {None, array_like}, optional\n",
      " |          If given, the resulting array must be if the form\n",
      " |          ``[beg, end]``, where ``beg`` and ``end`` are the endpoints of\n",
      " |          the window. If None is given then the class window is used. The\n",
      " |          default is None.\n",
      " |      \n",
      " |      Returns\n",
      " |      -------\n",
      " |      new_series : series\n",
      " |           Series of representing the identity.\n",
      " |  \n",
      " |  ----------------------------------------------------------------------\n",
      " |  Data descriptors inherited from numpy.polynomial._polybase.ABCPolyBase:\n",
      " |  \n",
      " |  __dict__\n",
      " |      dictionary for instance variables (if defined)\n",
      " |  \n",
      " |  __weakref__\n",
      " |      list of weak references to the object (if defined)\n",
      " |  \n",
      " |  ----------------------------------------------------------------------\n",
      " |  Data and other attributes inherited from numpy.polynomial._polybase.ABCPolyBase:\n",
      " |  \n",
      " |  __array_ufunc__ = None\n",
      " |  \n",
      " |  __hash__ = None\n",
      " |  \n",
      " |  maxpower = 100\n",
      "\n"
     ]
    }
   ],
   "source": [
    "help(Poly)"
   ]
  },
  {
   "cell_type": "code",
   "execution_count": 26,
   "metadata": {},
   "outputs": [
    {
     "data": {
      "text/latex": [
       "$x \\mapsto \\text{11.800000000000002} + \\text{7.854545454545454}\\,\\left(\\text{-1.0} + \\text{0.2222222222222222}x\\right)$"
      ],
      "text/plain": [
       "Polynomial([11.8       ,  7.85454545], domain=[0., 9.], window=[-1.,  1.])"
      ]
     },
     "execution_count": 26,
     "metadata": {},
     "output_type": "execute_result"
    }
   ],
   "source": [
    "melon_fit = Poly.fit(x_arr, melons_sample_2, 1)\n",
    "melon_fit"
   ]
  },
  {
   "cell_type": "code",
   "execution_count": 27,
   "metadata": {},
   "outputs": [
    {
     "data": {
      "text/plain": [
       "numpy.polynomial.polynomial.Polynomial"
      ]
     },
     "execution_count": 27,
     "metadata": {},
     "output_type": "execute_result"
    }
   ],
   "source": [
    "type(melon_fit)"
   ]
  },
  {
   "cell_type": "code",
   "execution_count": 28,
   "metadata": {},
   "outputs": [
    {
     "name": "stdout",
     "output_type": "stream",
     "text": [
      "11.800000000000002 + 7.854545454545454 x**1\n"
     ]
    }
   ],
   "source": [
    "print(melon_fit)"
   ]
  },
  {
   "cell_type": "code",
   "execution_count": 29,
   "metadata": {},
   "outputs": [
    {
     "data": {
      "text/plain": [
       "array([11.8       ,  7.85454545])"
      ]
     },
     "execution_count": 29,
     "metadata": {},
     "output_type": "execute_result"
    }
   ],
   "source": [
    "melon_fit.coef"
   ]
  },
  {
   "cell_type": "code",
   "execution_count": 30,
   "metadata": {},
   "outputs": [
    {
     "name": "stdout",
     "output_type": "stream",
     "text": [
      "melon_b=11.800000000000002\n",
      "melon_m=7.854545454545454\n"
     ]
    }
   ],
   "source": [
    "melon_b, melon_m = melon_fit.coef\n",
    "print(f'{melon_b=}')\n",
    "print(f'{melon_m=}')"
   ]
  },
  {
   "cell_type": "code",
   "execution_count": 31,
   "metadata": {},
   "outputs": [
    {
     "data": {
      "image/png": "[encoded data removed]",
      "text/plain": [
       "<Figure size 432x288 with 1 Axes>"
      ]
     },
     "metadata": {
      "needs_background": "light"
     },
     "output_type": "display_data"
    }
   ],
   "source": [
    "m, b = np.polyfit(x_arr, y_arr, 1)\n",
    "\n",
    "fig, ax = plt.subplots()\n",
    "\n",
    "ax.scatter(x_arr, melons_sample_2, color='blue')\n",
    "ax.plot(x_arr, melon_fit(x_arr), color='orange')\n",
    "\n",
    "ax.set_xlabel('Time (s)')\n",
    "ax.set_ylabel('Watermelons eaten')\n",
    "\n",
    "ax.set_title('Watermelon Statistics')\n",
    "\n",
    "plt.show()"
   ]
  },
  {
   "cell_type": "code",
   "execution_count": 32,
   "metadata": {},
   "outputs": [
    {
     "data": {
      "image/png": "[encoded data removed]",
      "text/plain": [
       "<Figure size 432x288 with 1 Axes>"
      ]
     },
     "metadata": {
      "needs_background": "light"
     },
     "output_type": "display_data"
    }
   ],
   "source": [
    "m, b = np.polyfit(x_arr, y_arr, 1)\n",
    "\n",
    "fig, ax = plt.subplots()\n",
    "\n",
    "ax.scatter(x_arr, melons_sample_2, label='Raw Data')\n",
    "ax.plot(x_arr, melon_fit(x_arr), color='orange', label='1st Order Fit')\n",
    "\n",
    "ax.set_xlabel('Time (s)')\n",
    "ax.set_ylabel('Watermelons eaten')\n",
    "\n",
    "ax.set_title('Watermelon Statistics')\n",
    "\n",
    "plt.legend()\n",
    "plt.show()"
   ]
  },
  {
   "cell_type": "code",
   "execution_count": 33,
   "metadata": {},
   "outputs": [
    {
     "data": {
      "text/plain": [
       "numpy.ndarray"
      ]
     },
     "execution_count": 33,
     "metadata": {},
     "output_type": "execute_result"
    },
    {
     "data": {
      "image/png": "[encoded data removed]",
      "text/plain": [
       "<Figure size 432x288 with 2 Axes>"
      ]
     },
     "metadata": {
      "needs_background": "light"
     },
     "output_type": "display_data"
    }
   ],
   "source": [
    "fig, axes = plt.subplots(nrows=1, ncols=2)\n",
    "\n",
    "type(axes)"
   ]
  },
  {
   "cell_type": "code",
   "execution_count": 34,
   "metadata": {},
   "outputs": [
    {
     "data": {
      "text/plain": [
       "(2,)"
      ]
     },
     "execution_count": 34,
     "metadata": {},
     "output_type": "execute_result"
    }
   ],
   "source": [
    "axes.shape"
   ]
  },
  {
   "cell_type": "code",
   "execution_count": 35,
   "metadata": {},
   "outputs": [
    {
     "data": {
      "text/plain": [
       "matplotlib.axes._subplots.AxesSubplot"
      ]
     },
     "execution_count": 35,
     "metadata": {},
     "output_type": "execute_result"
    }
   ],
   "source": [
    "type(axes[0])"
   ]
  },
  {
   "cell_type": "code",
   "execution_count": 36,
   "metadata": {},
   "outputs": [
    {
     "data": {
      "image/png": "[encoded data removed]",
      "text/plain": [
       "<Figure size 432x288 with 2 Axes>"
      ]
     },
     "metadata": {
      "needs_background": "light"
     },
     "output_type": "display_data"
    }
   ],
   "source": [
    "fig, axes = plt.subplots(nrows=1, ncols=2, sharey=True)\n",
    "\n",
    "axes[0].scatter(x_arr, melons_sample_2)\n",
    "\n",
    "axes[1].scatter(x_arr, melon_fit(x_arr))\n",
    "\n",
    "plt.show()"
   ]
  },
  {
   "cell_type": "code",
   "execution_count": 37,
   "metadata": {},
   "outputs": [
    {
     "data": {
      "image/png": "[encoded data removed]",
      "text/plain": [
       "<Figure size 432x288 with 2 Axes>"
      ]
     },
     "metadata": {
      "needs_background": "light"
     },
     "output_type": "display_data"
    }
   ],
   "source": [
    "fig, axes = plt.subplots(nrows=1, ncols=2, sharey=True)\n",
    "\n",
    "axes[0].scatter(x_arr, melons_sample_2)\n",
    "\n",
    "axes[1].scatter(x_arr, melon_fit(x_arr))\n",
    "\n",
    "plt.tight_layout()\n",
    "plt.show()"
   ]
  },
  {
   "cell_type": "code",
   "execution_count": 38,
   "metadata": {},
   "outputs": [
    {
     "data": {
      "image/png": "[encoded data removed]",
      "text/plain": [
       "<Figure size 864x288 with 2 Axes>"
      ]
     },
     "metadata": {
      "needs_background": "light"
     },
     "output_type": "display_data"
    }
   ],
   "source": [
    "fig, axes = plt.subplots(nrows=1, ncols=2, sharey=True, figsize=(12, 4))\n",
    "\n",
    "axes[0].scatter(x_arr, melons_sample_2)\n",
    "\n",
    "axes[1].scatter(x_arr, melon_fit(x_arr))\n",
    "\n",
    "plt.tight_layout()\n",
    "plt.show()"
   ]
  },
  {
   "cell_type": "code",
   "execution_count": 39,
   "metadata": {},
   "outputs": [
    {
     "data": {
      "image/png": "[encoded data removed]",
      "text/plain": [
       "<Figure size 864x288 with 2 Axes>"
      ]
     },
     "metadata": {
      "needs_background": "light"
     },
     "output_type": "display_data"
    }
   ],
   "source": [
    "fig, axes = plt.subplots(nrows=1, ncols=2, sharey=True, figsize=(12, 4))\n",
    "\n",
    "axes[0].scatter(x_arr, melons_sample_2)\n",
    "axes[0].set_title('Raw data')\n",
    "\n",
    "axes[1].scatter(x_arr, melon_fit(x_arr))\n",
    "axes[1].set_title('1D Polynomial Fit')\n",
    "\n",
    "plt.tight_layout()\n",
    "plt.show()"
   ]
  },
  {
   "cell_type": "code",
   "execution_count": 40,
   "metadata": {},
   "outputs": [
    {
     "name": "stdout",
     "output_type": "stream",
     "text": [
      "Help on function savefig in module matplotlib.pyplot:\n",
      "\n",
      "savefig(*args, **kwargs)\n",
      "    Save the current figure.\n",
      "    \n",
      "    Call signature::\n",
      "    \n",
      "      savefig(fname, dpi=None, facecolor='w', edgecolor='w',\n",
      "              orientation='portrait', papertype=None, format=None,\n",
      "              transparent=False, bbox_inches=None, pad_inches=0.1,\n",
      "              frameon=None, metadata=None)\n",
      "    \n",
      "    The available output formats depend on the backend being used.\n",
      "    \n",
      "    Parameters\n",
      "    ----------\n",
      "    fname : str or path-like or binary file-like\n",
      "        A path, or a Python file-like object, or\n",
      "        possibly some backend-dependent object such as\n",
      "        `matplotlib.backends.backend_pdf.PdfPages`.\n",
      "    \n",
      "        If *format* is set, it determines the output format, and the file\n",
      "        is saved as *fname*.  Note that *fname* is used verbatim, and there\n",
      "        is no attempt to make the extension, if any, of *fname* match\n",
      "        *format*, and no extension is appended.\n",
      "    \n",
      "        If *format* is not set, then the format is inferred from the\n",
      "        extension of *fname*, if there is one.  If *format* is not\n",
      "        set and *fname* has no extension, then the file is saved with\n",
      "        :rc:`savefig.format` and the appropriate extension is appended to\n",
      "        *fname*.\n",
      "    \n",
      "    Other Parameters\n",
      "    ----------------\n",
      "    dpi : float or 'figure', default: :rc:`savefig.dpi`\n",
      "        The resolution in dots per inch.  If 'figure', use the figure's\n",
      "        dpi value.\n",
      "    \n",
      "    quality : int, default: :rc:`savefig.jpeg_quality`\n",
      "        Applicable only if *format* is 'jpg' or 'jpeg', ignored otherwise.\n",
      "    \n",
      "        The image quality, on a scale from 1 (worst) to 95 (best).\n",
      "        Values above 95 should be avoided; 100 disables portions of\n",
      "        the JPEG compression algorithm, and results in large files\n",
      "        with hardly any gain in image quality.\n",
      "    \n",
      "        This parameter is deprecated.\n",
      "    \n",
      "    optimize : bool, default: False\n",
      "        Applicable only if *format* is 'jpg' or 'jpeg', ignored otherwise.\n",
      "    \n",
      "        Whether the encoder should make an extra pass over the image\n",
      "        in order to select optimal encoder settings.\n",
      "    \n",
      "        This parameter is deprecated.\n",
      "    \n",
      "    progressive : bool, default: False\n",
      "        Applicable only if *format* is 'jpg' or 'jpeg', ignored otherwise.\n",
      "    \n",
      "        Whether the image should be stored as a progressive JPEG file.\n",
      "    \n",
      "        This parameter is deprecated.\n",
      "    \n",
      "    facecolor : color or 'auto', default: :rc:`savefig.facecolor`\n",
      "        The facecolor of the figure.  If 'auto', use the current figure\n",
      "        facecolor.\n",
      "    \n",
      "    edgecolor : color or 'auto', default: :rc:`savefig.edgecolor`\n",
      "        The edgecolor of the figure.  If 'auto', use the current figure\n",
      "        edgecolor.\n",
      "    \n",
      "    orientation : {'landscape', 'portrait'}\n",
      "        Currently only supported by the postscript backend.\n",
      "    \n",
      "    papertype : str\n",
      "        One of 'letter', 'legal', 'executive', 'ledger', 'a0' through\n",
      "        'a10', 'b0' through 'b10'. Only supported for postscript\n",
      "        output.\n",
      "    \n",
      "    format : str\n",
      "        The file format, e.g. 'png', 'pdf', 'svg', ... The behavior when\n",
      "        this is unset is documented under *fname*.\n",
      "    \n",
      "    transparent : bool\n",
      "        If *True*, the Axes patches will all be transparent; the\n",
      "        figure patch will also be transparent unless facecolor\n",
      "        and/or edgecolor are specified via kwargs.\n",
      "        This is useful, for example, for displaying\n",
      "        a plot on top of a colored background on a web page.  The\n",
      "        transparency of these patches will be restored to their\n",
      "        original values upon exit of this function.\n",
      "    \n",
      "    bbox_inches : str or `.Bbox`, default: :rc:`savefig.bbox`\n",
      "        Bounding box in inches: only the given portion of the figure is\n",
      "        saved.  If 'tight', try to figure out the tight bbox of the figure.\n",
      "    \n",
      "    pad_inches : float, default: :rc:`savefig.pad_inches`\n",
      "        Amount of padding around the figure when bbox_inches is 'tight'.\n",
      "    \n",
      "    bbox_extra_artists : list of `~matplotlib.artist.Artist`, optional\n",
      "        A list of extra artists that will be considered when the\n",
      "        tight bbox is calculated.\n",
      "    \n",
      "    backend : str, optional\n",
      "        Use a non-default backend to render the file, e.g. to render a\n",
      "        png file with the \"cairo\" backend rather than the default \"agg\",\n",
      "        or a pdf file with the \"pgf\" backend rather than the default\n",
      "        \"pdf\".  Note that the default backend is normally sufficient.  See\n",
      "        :ref:`the-builtin-backends` for a list of valid backends for each\n",
      "        file format.  Custom backends can be referenced as \"module://...\".\n",
      "    \n",
      "    metadata : dict, optional\n",
      "        Key/value pairs to store in the image metadata. The supported keys\n",
      "        and defaults depend on the image format and backend:\n",
      "    \n",
      "        - 'png' with Agg backend: See the parameter ``metadata`` of\n",
      "          `~.FigureCanvasAgg.print_png`.\n",
      "        - 'pdf' with pdf backend: See the parameter ``metadata`` of\n",
      "          `~.backend_pdf.PdfPages`.\n",
      "        - 'svg' with svg backend: See the parameter ``metadata`` of\n",
      "          `~.FigureCanvasSVG.print_svg`.\n",
      "        - 'eps' and 'ps' with PS backend: Only 'Creator' is supported.\n",
      "    \n",
      "    pil_kwargs : dict, optional\n",
      "        Additional keyword arguments that are passed to\n",
      "        `PIL.Image.Image.save` when saving the figure.\n",
      "\n"
     ]
    }
   ],
   "source": [
    "help(plt.savefig)"
   ]
  }
 ],
 "metadata": {
  "kernelspec": {
   "display_name": "Python 3",
   "language": "python",
   "name": "python3"
  },
  "language_info": {
   "codemirror_mode": {
    "name": "ipython",
    "version": 3
   },
   "file_extension": ".py",
   "mimetype": "text/x-python",
   "name": "python",
   "nbconvert_exporter": "python",
   "pygments_lexer": "ipython3",
   "version": "3.9.5"
  }
 },
 "nbformat": 4,
 "nbformat_minor": 4
}
